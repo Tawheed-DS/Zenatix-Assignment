{
  "nbformat": 4,
  "nbformat_minor": 0,
  "metadata": {
    "colab": {
      "name": "Tawheed - Assignment - Zenatix.ipynb",
      "provenance": [],
      "authorship_tag": "ABX9TyNwxQvkWPRSVh+SiEV8VAQl",
      "include_colab_link": true
    },
    "kernelspec": {
      "name": "python3",
      "display_name": "Python 3"
    },
    "language_info": {
      "name": "python"
    }
  },
  "cells": [
    {
      "cell_type": "markdown",
      "metadata": {
        "id": "view-in-github",
        "colab_type": "text"
      },
      "source": [
        "<a href=\"https://colab.research.google.com/github/Tawheed-DS/Zenatix-Assignment/blob/main/Tawheed_Assignment_Zenatix.ipynb\" target=\"_parent\"><img src=\"https://colab.research.google.com/assets/colab-badge.svg\" alt=\"Open In Colab\"/></a>"
      ]
    },
    {
      "cell_type": "code",
      "metadata": {
        "id": "XAxqUH0wt-Dl"
      },
      "source": [
        "import pandas as pd\n",
        "import numpy as np\n",
        "\n",
        "import matplotlib.pyplot as plt\n",
        "import seaborn as sns\n",
        "from datetime import datetime\n",
        "\n",
        "%matplotlib inline"
      ],
      "execution_count": 838,
      "outputs": []
    },
    {
      "cell_type": "code",
      "metadata": {
        "colab": {
          "base_uri": "https://localhost:8080/"
        },
        "id": "j24jL3mguW18",
        "outputId": "59fa51ac-0ab4-4ebc-870a-7eb446777423"
      },
      "source": [
        "from google.colab import drive\n",
        "drive.mount('/content/drive')"
      ],
      "execution_count": 839,
      "outputs": [
        {
          "output_type": "stream",
          "name": "stdout",
          "text": [
            "Drive already mounted at /content/drive; to attempt to forcibly remount, call drive.mount(\"/content/drive\", force_remount=True).\n"
          ]
        }
      ]
    },
    {
      "cell_type": "code",
      "metadata": {
        "id": "uFeT9wh-uXa1"
      },
      "source": [
        "path = '/content/drive/MyDrive/Data files/AC_Data.csv'\n",
        "\n",
        "data = pd.read_csv(path)"
      ],
      "execution_count": 840,
      "outputs": []
    },
    {
      "cell_type": "code",
      "metadata": {
        "colab": {
          "base_uri": "https://localhost:8080/"
        },
        "id": "ewN9PTI5vl2Z",
        "outputId": "c48b25cb-2560-4fea-871c-2b4034aa873c"
      },
      "source": [
        "data.shape"
      ],
      "execution_count": 841,
      "outputs": [
        {
          "output_type": "execute_result",
          "data": {
            "text/plain": [
              "(87840, 19)"
            ]
          },
          "metadata": {},
          "execution_count": 841
        }
      ]
    },
    {
      "cell_type": "code",
      "metadata": {
        "colab": {
          "base_uri": "https://localhost:8080/",
          "height": 203
        },
        "id": "KMiRDxjUvNyI",
        "outputId": "e0629993-7ba3-4d9f-8603-ef558b72fd7f"
      },
      "source": [
        "data.head()"
      ],
      "execution_count": 842,
      "outputs": [
        {
          "output_type": "execute_result",
          "data": {
            "text/html": [
              "<div>\n",
              "<style scoped>\n",
              "    .dataframe tbody tr th:only-of-type {\n",
              "        vertical-align: middle;\n",
              "    }\n",
              "\n",
              "    .dataframe tbody tr th {\n",
              "        vertical-align: top;\n",
              "    }\n",
              "\n",
              "    .dataframe thead th {\n",
              "        text-align: right;\n",
              "    }\n",
              "</style>\n",
              "<table border=\"1\" class=\"dataframe\">\n",
              "  <thead>\n",
              "    <tr style=\"text-align: right;\">\n",
              "      <th></th>\n",
              "      <th>0</th>\n",
              "      <th>AC 1</th>\n",
              "      <th>AC 2</th>\n",
              "      <th>AC 3</th>\n",
              "      <th>AC 4</th>\n",
              "      <th>AC 5</th>\n",
              "      <th>AC 6</th>\n",
              "      <th>AC 7</th>\n",
              "      <th>AC 8</th>\n",
              "      <th>AC 9</th>\n",
              "      <th>AC 10</th>\n",
              "      <th>AC 11</th>\n",
              "      <th>AC 12</th>\n",
              "      <th>AC 13</th>\n",
              "      <th>AC 14</th>\n",
              "      <th>AC 15</th>\n",
              "      <th>AC 16</th>\n",
              "      <th>AC 17</th>\n",
              "      <th>AC 18</th>\n",
              "    </tr>\n",
              "  </thead>\n",
              "  <tbody>\n",
              "    <tr>\n",
              "      <th>0</th>\n",
              "      <td>2019-08-01 00:00:00</td>\n",
              "      <td>7.518632</td>\n",
              "      <td>8.788315</td>\n",
              "      <td>0.0</td>\n",
              "      <td>0.0</td>\n",
              "      <td>2.617045</td>\n",
              "      <td>4.079041</td>\n",
              "      <td>2.782276</td>\n",
              "      <td>4.624447</td>\n",
              "      <td>5.222060</td>\n",
              "      <td>2.151238</td>\n",
              "      <td>1.585072</td>\n",
              "      <td>0.560373</td>\n",
              "      <td>3.142941</td>\n",
              "      <td>2.749470</td>\n",
              "      <td>5.417774</td>\n",
              "      <td>4.113460</td>\n",
              "      <td>3.305072</td>\n",
              "      <td>6.735981</td>\n",
              "    </tr>\n",
              "    <tr>\n",
              "      <th>1</th>\n",
              "      <td>2019-08-01 00:01:00</td>\n",
              "      <td>NaN</td>\n",
              "      <td>NaN</td>\n",
              "      <td>NaN</td>\n",
              "      <td>NaN</td>\n",
              "      <td>NaN</td>\n",
              "      <td>NaN</td>\n",
              "      <td>NaN</td>\n",
              "      <td>NaN</td>\n",
              "      <td>NaN</td>\n",
              "      <td>NaN</td>\n",
              "      <td>NaN</td>\n",
              "      <td>NaN</td>\n",
              "      <td>NaN</td>\n",
              "      <td>NaN</td>\n",
              "      <td>NaN</td>\n",
              "      <td>NaN</td>\n",
              "      <td>NaN</td>\n",
              "      <td>NaN</td>\n",
              "    </tr>\n",
              "    <tr>\n",
              "      <th>2</th>\n",
              "      <td>2019-08-01 00:02:00</td>\n",
              "      <td>7.426114</td>\n",
              "      <td>8.940615</td>\n",
              "      <td>0.0</td>\n",
              "      <td>0.0</td>\n",
              "      <td>2.581625</td>\n",
              "      <td>3.781231</td>\n",
              "      <td>2.529366</td>\n",
              "      <td>5.057423</td>\n",
              "      <td>5.349465</td>\n",
              "      <td>2.414715</td>\n",
              "      <td>2.168184</td>\n",
              "      <td>1.818730</td>\n",
              "      <td>3.085110</td>\n",
              "      <td>2.720484</td>\n",
              "      <td>3.302422</td>\n",
              "      <td>3.986483</td>\n",
              "      <td>3.220588</td>\n",
              "      <td>6.379500</td>\n",
              "    </tr>\n",
              "    <tr>\n",
              "      <th>3</th>\n",
              "      <td>2019-08-01 00:03:00</td>\n",
              "      <td>NaN</td>\n",
              "      <td>NaN</td>\n",
              "      <td>NaN</td>\n",
              "      <td>NaN</td>\n",
              "      <td>NaN</td>\n",
              "      <td>NaN</td>\n",
              "      <td>NaN</td>\n",
              "      <td>NaN</td>\n",
              "      <td>NaN</td>\n",
              "      <td>NaN</td>\n",
              "      <td>NaN</td>\n",
              "      <td>NaN</td>\n",
              "      <td>NaN</td>\n",
              "      <td>NaN</td>\n",
              "      <td>NaN</td>\n",
              "      <td>NaN</td>\n",
              "      <td>NaN</td>\n",
              "      <td>NaN</td>\n",
              "    </tr>\n",
              "    <tr>\n",
              "      <th>4</th>\n",
              "      <td>2019-08-01 00:04:00</td>\n",
              "      <td>7.052986</td>\n",
              "      <td>9.161103</td>\n",
              "      <td>0.0</td>\n",
              "      <td>0.0</td>\n",
              "      <td>2.592095</td>\n",
              "      <td>3.800127</td>\n",
              "      <td>2.332304</td>\n",
              "      <td>6.322521</td>\n",
              "      <td>3.995392</td>\n",
              "      <td>2.237114</td>\n",
              "      <td>3.345624</td>\n",
              "      <td>2.310409</td>\n",
              "      <td>3.132799</td>\n",
              "      <td>2.676861</td>\n",
              "      <td>3.539026</td>\n",
              "      <td>3.797881</td>\n",
              "      <td>3.131560</td>\n",
              "      <td>6.363475</td>\n",
              "    </tr>\n",
              "  </tbody>\n",
              "</table>\n",
              "</div>"
            ],
            "text/plain": [
              "                     0      AC 1      AC 2  ...     AC 16     AC 17     AC 18\n",
              "0  2019-08-01 00:00:00  7.518632  8.788315  ...  4.113460  3.305072  6.735981\n",
              "1  2019-08-01 00:01:00       NaN       NaN  ...       NaN       NaN       NaN\n",
              "2  2019-08-01 00:02:00  7.426114  8.940615  ...  3.986483  3.220588  6.379500\n",
              "3  2019-08-01 00:03:00       NaN       NaN  ...       NaN       NaN       NaN\n",
              "4  2019-08-01 00:04:00  7.052986  9.161103  ...  3.797881  3.131560  6.363475\n",
              "\n",
              "[5 rows x 19 columns]"
            ]
          },
          "metadata": {},
          "execution_count": 842
        }
      ]
    },
    {
      "cell_type": "code",
      "metadata": {
        "colab": {
          "base_uri": "https://localhost:8080/",
          "height": 391
        },
        "id": "57r_rWs3z_rq",
        "outputId": "fc3eba2a-46f4-46ec-b4a1-65b27615917a"
      },
      "source": [
        "data.tail()"
      ],
      "execution_count": 843,
      "outputs": [
        {
          "output_type": "execute_result",
          "data": {
            "text/html": [
              "<div>\n",
              "<style scoped>\n",
              "    .dataframe tbody tr th:only-of-type {\n",
              "        vertical-align: middle;\n",
              "    }\n",
              "\n",
              "    .dataframe tbody tr th {\n",
              "        vertical-align: top;\n",
              "    }\n",
              "\n",
              "    .dataframe thead th {\n",
              "        text-align: right;\n",
              "    }\n",
              "</style>\n",
              "<table border=\"1\" class=\"dataframe\">\n",
              "  <thead>\n",
              "    <tr style=\"text-align: right;\">\n",
              "      <th></th>\n",
              "      <th>0</th>\n",
              "      <th>AC 1</th>\n",
              "      <th>AC 2</th>\n",
              "      <th>AC 3</th>\n",
              "      <th>AC 4</th>\n",
              "      <th>AC 5</th>\n",
              "      <th>AC 6</th>\n",
              "      <th>AC 7</th>\n",
              "      <th>AC 8</th>\n",
              "      <th>AC 9</th>\n",
              "      <th>AC 10</th>\n",
              "      <th>AC 11</th>\n",
              "      <th>AC 12</th>\n",
              "      <th>AC 13</th>\n",
              "      <th>AC 14</th>\n",
              "      <th>AC 15</th>\n",
              "      <th>AC 16</th>\n",
              "      <th>AC 17</th>\n",
              "      <th>AC 18</th>\n",
              "    </tr>\n",
              "  </thead>\n",
              "  <tbody>\n",
              "    <tr>\n",
              "      <th>87835</th>\n",
              "      <td>2019-09-30 23:55:00</td>\n",
              "      <td>0.000000</td>\n",
              "      <td>6.122385</td>\n",
              "      <td>2.192198</td>\n",
              "      <td>2.083315</td>\n",
              "      <td>1.046250</td>\n",
              "      <td>0.000000</td>\n",
              "      <td>3.668421</td>\n",
              "      <td>3.006311</td>\n",
              "      <td>3.614301</td>\n",
              "      <td>1.860847</td>\n",
              "      <td>5.019769</td>\n",
              "      <td>3.154221</td>\n",
              "      <td>3.648026</td>\n",
              "      <td>2.439526</td>\n",
              "      <td>4.062719</td>\n",
              "      <td>1.854352</td>\n",
              "      <td>3.027539</td>\n",
              "      <td>7.259989</td>\n",
              "    </tr>\n",
              "    <tr>\n",
              "      <th>87836</th>\n",
              "      <td>2019-09-30 23:56:00</td>\n",
              "      <td>NaN</td>\n",
              "      <td>NaN</td>\n",
              "      <td>NaN</td>\n",
              "      <td>NaN</td>\n",
              "      <td>NaN</td>\n",
              "      <td>NaN</td>\n",
              "      <td>NaN</td>\n",
              "      <td>NaN</td>\n",
              "      <td>NaN</td>\n",
              "      <td>NaN</td>\n",
              "      <td>NaN</td>\n",
              "      <td>NaN</td>\n",
              "      <td>NaN</td>\n",
              "      <td>NaN</td>\n",
              "      <td>NaN</td>\n",
              "      <td>NaN</td>\n",
              "      <td>NaN</td>\n",
              "      <td>NaN</td>\n",
              "    </tr>\n",
              "    <tr>\n",
              "      <th>87837</th>\n",
              "      <td>2019-09-30 23:57:00</td>\n",
              "      <td>1.209176</td>\n",
              "      <td>6.152532</td>\n",
              "      <td>2.211421</td>\n",
              "      <td>0.000000</td>\n",
              "      <td>1.448103</td>\n",
              "      <td>0.000000</td>\n",
              "      <td>3.151248</td>\n",
              "      <td>2.871690</td>\n",
              "      <td>3.417942</td>\n",
              "      <td>2.185493</td>\n",
              "      <td>5.174168</td>\n",
              "      <td>2.772349</td>\n",
              "      <td>3.786657</td>\n",
              "      <td>2.060023</td>\n",
              "      <td>4.057525</td>\n",
              "      <td>1.870886</td>\n",
              "      <td>2.991946</td>\n",
              "      <td>7.134647</td>\n",
              "    </tr>\n",
              "    <tr>\n",
              "      <th>87838</th>\n",
              "      <td>2019-09-30 23:58:00</td>\n",
              "      <td>NaN</td>\n",
              "      <td>NaN</td>\n",
              "      <td>NaN</td>\n",
              "      <td>NaN</td>\n",
              "      <td>NaN</td>\n",
              "      <td>NaN</td>\n",
              "      <td>NaN</td>\n",
              "      <td>NaN</td>\n",
              "      <td>NaN</td>\n",
              "      <td>NaN</td>\n",
              "      <td>NaN</td>\n",
              "      <td>NaN</td>\n",
              "      <td>NaN</td>\n",
              "      <td>NaN</td>\n",
              "      <td>NaN</td>\n",
              "      <td>NaN</td>\n",
              "      <td>NaN</td>\n",
              "      <td>NaN</td>\n",
              "    </tr>\n",
              "    <tr>\n",
              "      <th>87839</th>\n",
              "      <td>2019-09-30 23:59:00</td>\n",
              "      <td>1.430442</td>\n",
              "      <td>6.078281</td>\n",
              "      <td>1.891162</td>\n",
              "      <td>0.000000</td>\n",
              "      <td>1.577491</td>\n",
              "      <td>4.364239</td>\n",
              "      <td>3.126339</td>\n",
              "      <td>3.287224</td>\n",
              "      <td>3.986978</td>\n",
              "      <td>2.013912</td>\n",
              "      <td>4.821829</td>\n",
              "      <td>3.363855</td>\n",
              "      <td>3.380110</td>\n",
              "      <td>1.949240</td>\n",
              "      <td>4.026304</td>\n",
              "      <td>1.862166</td>\n",
              "      <td>3.009434</td>\n",
              "      <td>7.179719</td>\n",
              "    </tr>\n",
              "  </tbody>\n",
              "</table>\n",
              "</div>"
            ],
            "text/plain": [
              "                         0      AC 1      AC 2  ...     AC 16     AC 17     AC 18\n",
              "87835  2019-09-30 23:55:00  0.000000  6.122385  ...  1.854352  3.027539  7.259989\n",
              "87836  2019-09-30 23:56:00       NaN       NaN  ...       NaN       NaN       NaN\n",
              "87837  2019-09-30 23:57:00  1.209176  6.152532  ...  1.870886  2.991946  7.134647\n",
              "87838  2019-09-30 23:58:00       NaN       NaN  ...       NaN       NaN       NaN\n",
              "87839  2019-09-30 23:59:00  1.430442  6.078281  ...  1.862166  3.009434  7.179719\n",
              "\n",
              "[5 rows x 19 columns]"
            ]
          },
          "metadata": {},
          "execution_count": 843
        }
      ]
    },
    {
      "cell_type": "code",
      "metadata": {
        "colab": {
          "base_uri": "https://localhost:8080/"
        },
        "id": "yQIWxVf20noa",
        "outputId": "cbb1ab63-6a5d-48ec-a163-374b19868d4f"
      },
      "source": [
        "# Print Information about dataset\n",
        "data.info()"
      ],
      "execution_count": 844,
      "outputs": [
        {
          "output_type": "stream",
          "name": "stdout",
          "text": [
            "<class 'pandas.core.frame.DataFrame'>\n",
            "RangeIndex: 87840 entries, 0 to 87839\n",
            "Data columns (total 19 columns):\n",
            " #   Column  Non-Null Count  Dtype  \n",
            "---  ------  --------------  -----  \n",
            " 0   0       87840 non-null  object \n",
            " 1   AC 1    43708 non-null  float64\n",
            " 2   AC 2    43711 non-null  float64\n",
            " 3   AC 3    43713 non-null  float64\n",
            " 4   AC 4    43704 non-null  float64\n",
            " 5   AC 5    43716 non-null  float64\n",
            " 6   AC 6    43717 non-null  float64\n",
            " 7   AC 7    43679 non-null  float64\n",
            " 8   AC 8    43704 non-null  float64\n",
            " 9   AC 9    43654 non-null  float64\n",
            " 10  AC 10   43690 non-null  float64\n",
            " 11  AC 11   43670 non-null  float64\n",
            " 12  AC 12   43713 non-null  float64\n",
            " 13  AC 13   43719 non-null  float64\n",
            " 14  AC 14   43696 non-null  float64\n",
            " 15  AC 15   43715 non-null  float64\n",
            " 16  AC 16   43710 non-null  float64\n",
            " 17  AC 17   43714 non-null  float64\n",
            " 18  AC 18   43723 non-null  float64\n",
            "dtypes: float64(18), object(1)\n",
            "memory usage: 12.7+ MB\n"
          ]
        }
      ]
    },
    {
      "cell_type": "code",
      "metadata": {
        "colab": {
          "base_uri": "https://localhost:8080/"
        },
        "id": "RlwITKp78Z4R",
        "outputId": "a64acad6-9c91-428a-d22f-399cda29161c"
      },
      "source": [
        "# Percentage of data missing for each AC\n",
        "data.isnull().sum()/data.shape[0] *100"
      ],
      "execution_count": 845,
      "outputs": [
        {
          "output_type": "execute_result",
          "data": {
            "text/plain": [
              "0         0.000000\n",
              "AC 1     50.241348\n",
              "AC 2     50.237933\n",
              "AC 3     50.235656\n",
              "AC 4     50.245902\n",
              "AC 5     50.232240\n",
              "AC 6     50.231102\n",
              "AC 7     50.274362\n",
              "AC 8     50.245902\n",
              "AC 9     50.302823\n",
              "AC 10    50.261840\n",
              "AC 11    50.284608\n",
              "AC 12    50.235656\n",
              "AC 13    50.228825\n",
              "AC 14    50.255009\n",
              "AC 15    50.233379\n",
              "AC 16    50.239071\n",
              "AC 17    50.234517\n",
              "AC 18    50.224271\n",
              "dtype: float64"
            ]
          },
          "metadata": {},
          "execution_count": 845
        }
      ]
    },
    {
      "cell_type": "markdown",
      "metadata": {
        "id": "M1IWEmGZ8u6W"
      },
      "source": [
        "##Observations\n",
        "* <b/>Power consumption in the dataset is given for every minute, every hour, every day and each of the two months of august and september.\n",
        "* Power consumption, it seems to be, is being recorded after every one minute gap, and that is why 50% of data is missing for each AC.</b>"
      ]
    },
    {
      "cell_type": "markdown",
      "metadata": {
        "id": "a1pUFEBv-CyX"
      },
      "source": [
        "##Feature Engineering"
      ]
    },
    {
      "cell_type": "code",
      "metadata": {
        "id": "Qazq5BDw-TQ8"
      },
      "source": [
        "# Convert timestamp string into datetime format\n",
        "data['datetime'] = pd.to_datetime(data['0'])"
      ],
      "execution_count": 846,
      "outputs": []
    },
    {
      "cell_type": "code",
      "metadata": {
        "id": "imwT4AFU-tEn"
      },
      "source": [
        "# Drop timestamp string\n",
        "data.drop(['0'],axis=1,inplace=True)"
      ],
      "execution_count": 847,
      "outputs": []
    },
    {
      "cell_type": "code",
      "metadata": {
        "colab": {
          "base_uri": "https://localhost:8080/",
          "height": 203
        },
        "id": "Rd0zQjW7_lD4",
        "outputId": "2b6635bf-462e-4abc-a853-2f31f895f0b9"
      },
      "source": [
        "data.head()"
      ],
      "execution_count": 848,
      "outputs": [
        {
          "output_type": "execute_result",
          "data": {
            "text/html": [
              "<div>\n",
              "<style scoped>\n",
              "    .dataframe tbody tr th:only-of-type {\n",
              "        vertical-align: middle;\n",
              "    }\n",
              "\n",
              "    .dataframe tbody tr th {\n",
              "        vertical-align: top;\n",
              "    }\n",
              "\n",
              "    .dataframe thead th {\n",
              "        text-align: right;\n",
              "    }\n",
              "</style>\n",
              "<table border=\"1\" class=\"dataframe\">\n",
              "  <thead>\n",
              "    <tr style=\"text-align: right;\">\n",
              "      <th></th>\n",
              "      <th>AC 1</th>\n",
              "      <th>AC 2</th>\n",
              "      <th>AC 3</th>\n",
              "      <th>AC 4</th>\n",
              "      <th>AC 5</th>\n",
              "      <th>AC 6</th>\n",
              "      <th>AC 7</th>\n",
              "      <th>AC 8</th>\n",
              "      <th>AC 9</th>\n",
              "      <th>AC 10</th>\n",
              "      <th>AC 11</th>\n",
              "      <th>AC 12</th>\n",
              "      <th>AC 13</th>\n",
              "      <th>AC 14</th>\n",
              "      <th>AC 15</th>\n",
              "      <th>AC 16</th>\n",
              "      <th>AC 17</th>\n",
              "      <th>AC 18</th>\n",
              "      <th>datetime</th>\n",
              "    </tr>\n",
              "  </thead>\n",
              "  <tbody>\n",
              "    <tr>\n",
              "      <th>0</th>\n",
              "      <td>7.518632</td>\n",
              "      <td>8.788315</td>\n",
              "      <td>0.0</td>\n",
              "      <td>0.0</td>\n",
              "      <td>2.617045</td>\n",
              "      <td>4.079041</td>\n",
              "      <td>2.782276</td>\n",
              "      <td>4.624447</td>\n",
              "      <td>5.222060</td>\n",
              "      <td>2.151238</td>\n",
              "      <td>1.585072</td>\n",
              "      <td>0.560373</td>\n",
              "      <td>3.142941</td>\n",
              "      <td>2.749470</td>\n",
              "      <td>5.417774</td>\n",
              "      <td>4.113460</td>\n",
              "      <td>3.305072</td>\n",
              "      <td>6.735981</td>\n",
              "      <td>2019-08-01 00:00:00</td>\n",
              "    </tr>\n",
              "    <tr>\n",
              "      <th>1</th>\n",
              "      <td>NaN</td>\n",
              "      <td>NaN</td>\n",
              "      <td>NaN</td>\n",
              "      <td>NaN</td>\n",
              "      <td>NaN</td>\n",
              "      <td>NaN</td>\n",
              "      <td>NaN</td>\n",
              "      <td>NaN</td>\n",
              "      <td>NaN</td>\n",
              "      <td>NaN</td>\n",
              "      <td>NaN</td>\n",
              "      <td>NaN</td>\n",
              "      <td>NaN</td>\n",
              "      <td>NaN</td>\n",
              "      <td>NaN</td>\n",
              "      <td>NaN</td>\n",
              "      <td>NaN</td>\n",
              "      <td>NaN</td>\n",
              "      <td>2019-08-01 00:01:00</td>\n",
              "    </tr>\n",
              "    <tr>\n",
              "      <th>2</th>\n",
              "      <td>7.426114</td>\n",
              "      <td>8.940615</td>\n",
              "      <td>0.0</td>\n",
              "      <td>0.0</td>\n",
              "      <td>2.581625</td>\n",
              "      <td>3.781231</td>\n",
              "      <td>2.529366</td>\n",
              "      <td>5.057423</td>\n",
              "      <td>5.349465</td>\n",
              "      <td>2.414715</td>\n",
              "      <td>2.168184</td>\n",
              "      <td>1.818730</td>\n",
              "      <td>3.085110</td>\n",
              "      <td>2.720484</td>\n",
              "      <td>3.302422</td>\n",
              "      <td>3.986483</td>\n",
              "      <td>3.220588</td>\n",
              "      <td>6.379500</td>\n",
              "      <td>2019-08-01 00:02:00</td>\n",
              "    </tr>\n",
              "    <tr>\n",
              "      <th>3</th>\n",
              "      <td>NaN</td>\n",
              "      <td>NaN</td>\n",
              "      <td>NaN</td>\n",
              "      <td>NaN</td>\n",
              "      <td>NaN</td>\n",
              "      <td>NaN</td>\n",
              "      <td>NaN</td>\n",
              "      <td>NaN</td>\n",
              "      <td>NaN</td>\n",
              "      <td>NaN</td>\n",
              "      <td>NaN</td>\n",
              "      <td>NaN</td>\n",
              "      <td>NaN</td>\n",
              "      <td>NaN</td>\n",
              "      <td>NaN</td>\n",
              "      <td>NaN</td>\n",
              "      <td>NaN</td>\n",
              "      <td>NaN</td>\n",
              "      <td>2019-08-01 00:03:00</td>\n",
              "    </tr>\n",
              "    <tr>\n",
              "      <th>4</th>\n",
              "      <td>7.052986</td>\n",
              "      <td>9.161103</td>\n",
              "      <td>0.0</td>\n",
              "      <td>0.0</td>\n",
              "      <td>2.592095</td>\n",
              "      <td>3.800127</td>\n",
              "      <td>2.332304</td>\n",
              "      <td>6.322521</td>\n",
              "      <td>3.995392</td>\n",
              "      <td>2.237114</td>\n",
              "      <td>3.345624</td>\n",
              "      <td>2.310409</td>\n",
              "      <td>3.132799</td>\n",
              "      <td>2.676861</td>\n",
              "      <td>3.539026</td>\n",
              "      <td>3.797881</td>\n",
              "      <td>3.131560</td>\n",
              "      <td>6.363475</td>\n",
              "      <td>2019-08-01 00:04:00</td>\n",
              "    </tr>\n",
              "  </tbody>\n",
              "</table>\n",
              "</div>"
            ],
            "text/plain": [
              "       AC 1      AC 2  AC 3  ...     AC 17     AC 18            datetime\n",
              "0  7.518632  8.788315   0.0  ...  3.305072  6.735981 2019-08-01 00:00:00\n",
              "1       NaN       NaN   NaN  ...       NaN       NaN 2019-08-01 00:01:00\n",
              "2  7.426114  8.940615   0.0  ...  3.220588  6.379500 2019-08-01 00:02:00\n",
              "3       NaN       NaN   NaN  ...       NaN       NaN 2019-08-01 00:03:00\n",
              "4  7.052986  9.161103   0.0  ...  3.131560  6.363475 2019-08-01 00:04:00\n",
              "\n",
              "[5 rows x 19 columns]"
            ]
          },
          "metadata": {},
          "execution_count": 848
        }
      ]
    },
    {
      "cell_type": "code",
      "metadata": {
        "colab": {
          "base_uri": "https://localhost:8080/"
        },
        "id": "AL3EL7eD8Z0w",
        "outputId": "2096c2c0-e880-46fc-908f-880c2ab72954"
      },
      "source": [
        "data.info()"
      ],
      "execution_count": 849,
      "outputs": [
        {
          "output_type": "stream",
          "name": "stdout",
          "text": [
            "<class 'pandas.core.frame.DataFrame'>\n",
            "RangeIndex: 87840 entries, 0 to 87839\n",
            "Data columns (total 19 columns):\n",
            " #   Column    Non-Null Count  Dtype         \n",
            "---  ------    --------------  -----         \n",
            " 0   AC 1      43708 non-null  float64       \n",
            " 1   AC 2      43711 non-null  float64       \n",
            " 2   AC 3      43713 non-null  float64       \n",
            " 3   AC 4      43704 non-null  float64       \n",
            " 4   AC 5      43716 non-null  float64       \n",
            " 5   AC 6      43717 non-null  float64       \n",
            " 6   AC 7      43679 non-null  float64       \n",
            " 7   AC 8      43704 non-null  float64       \n",
            " 8   AC 9      43654 non-null  float64       \n",
            " 9   AC 10     43690 non-null  float64       \n",
            " 10  AC 11     43670 non-null  float64       \n",
            " 11  AC 12     43713 non-null  float64       \n",
            " 12  AC 13     43719 non-null  float64       \n",
            " 13  AC 14     43696 non-null  float64       \n",
            " 14  AC 15     43715 non-null  float64       \n",
            " 15  AC 16     43710 non-null  float64       \n",
            " 16  AC 17     43714 non-null  float64       \n",
            " 17  AC 18     43723 non-null  float64       \n",
            " 18  datetime  87840 non-null  datetime64[ns]\n",
            "dtypes: datetime64[ns](1), float64(18)\n",
            "memory usage: 12.7 MB\n"
          ]
        }
      ]
    },
    {
      "cell_type": "code",
      "metadata": {
        "id": "s_CyraxU-d4u"
      },
      "source": [
        "# Define helper functions to extract month, day and hour\n",
        "def month(dateTime):\n",
        "  return datetime.date(dateTime).month\n",
        "\n",
        "def day(dateTime):\n",
        "  return datetime.date(dateTime).day\n",
        "\n",
        "def hour(dateTime):\n",
        "  return datetime.time(dateTime).hour"
      ],
      "execution_count": 850,
      "outputs": []
    },
    {
      "cell_type": "code",
      "metadata": {
        "id": "Ze5lZSvV_JaS"
      },
      "source": [
        "# Create a month column\n",
        "data['month'] = data['datetime'].apply(month)\n",
        "\n",
        "# Create a day column\n",
        "data['day'] = data['datetime'].apply(day)\n",
        "\n",
        "#Create an hour column\n",
        "data['hour'] = data['datetime'].apply(hour)"
      ],
      "execution_count": 851,
      "outputs": []
    },
    {
      "cell_type": "code",
      "metadata": {
        "colab": {
          "base_uri": "https://localhost:8080/",
          "height": 408
        },
        "id": "QAlXCgE6_mKX",
        "outputId": "ae826d95-5d62-410d-b6f6-a43b8ee88205"
      },
      "source": [
        "data.head()"
      ],
      "execution_count": 852,
      "outputs": [
        {
          "output_type": "execute_result",
          "data": {
            "text/html": [
              "<div>\n",
              "<style scoped>\n",
              "    .dataframe tbody tr th:only-of-type {\n",
              "        vertical-align: middle;\n",
              "    }\n",
              "\n",
              "    .dataframe tbody tr th {\n",
              "        vertical-align: top;\n",
              "    }\n",
              "\n",
              "    .dataframe thead th {\n",
              "        text-align: right;\n",
              "    }\n",
              "</style>\n",
              "<table border=\"1\" class=\"dataframe\">\n",
              "  <thead>\n",
              "    <tr style=\"text-align: right;\">\n",
              "      <th></th>\n",
              "      <th>AC 1</th>\n",
              "      <th>AC 2</th>\n",
              "      <th>AC 3</th>\n",
              "      <th>AC 4</th>\n",
              "      <th>AC 5</th>\n",
              "      <th>AC 6</th>\n",
              "      <th>AC 7</th>\n",
              "      <th>AC 8</th>\n",
              "      <th>AC 9</th>\n",
              "      <th>AC 10</th>\n",
              "      <th>AC 11</th>\n",
              "      <th>AC 12</th>\n",
              "      <th>AC 13</th>\n",
              "      <th>AC 14</th>\n",
              "      <th>AC 15</th>\n",
              "      <th>AC 16</th>\n",
              "      <th>AC 17</th>\n",
              "      <th>AC 18</th>\n",
              "      <th>datetime</th>\n",
              "      <th>month</th>\n",
              "      <th>day</th>\n",
              "      <th>hour</th>\n",
              "    </tr>\n",
              "  </thead>\n",
              "  <tbody>\n",
              "    <tr>\n",
              "      <th>0</th>\n",
              "      <td>7.518632</td>\n",
              "      <td>8.788315</td>\n",
              "      <td>0.0</td>\n",
              "      <td>0.0</td>\n",
              "      <td>2.617045</td>\n",
              "      <td>4.079041</td>\n",
              "      <td>2.782276</td>\n",
              "      <td>4.624447</td>\n",
              "      <td>5.222060</td>\n",
              "      <td>2.151238</td>\n",
              "      <td>1.585072</td>\n",
              "      <td>0.560373</td>\n",
              "      <td>3.142941</td>\n",
              "      <td>2.749470</td>\n",
              "      <td>5.417774</td>\n",
              "      <td>4.113460</td>\n",
              "      <td>3.305072</td>\n",
              "      <td>6.735981</td>\n",
              "      <td>2019-08-01 00:00:00</td>\n",
              "      <td>8</td>\n",
              "      <td>1</td>\n",
              "      <td>0</td>\n",
              "    </tr>\n",
              "    <tr>\n",
              "      <th>1</th>\n",
              "      <td>NaN</td>\n",
              "      <td>NaN</td>\n",
              "      <td>NaN</td>\n",
              "      <td>NaN</td>\n",
              "      <td>NaN</td>\n",
              "      <td>NaN</td>\n",
              "      <td>NaN</td>\n",
              "      <td>NaN</td>\n",
              "      <td>NaN</td>\n",
              "      <td>NaN</td>\n",
              "      <td>NaN</td>\n",
              "      <td>NaN</td>\n",
              "      <td>NaN</td>\n",
              "      <td>NaN</td>\n",
              "      <td>NaN</td>\n",
              "      <td>NaN</td>\n",
              "      <td>NaN</td>\n",
              "      <td>NaN</td>\n",
              "      <td>2019-08-01 00:01:00</td>\n",
              "      <td>8</td>\n",
              "      <td>1</td>\n",
              "      <td>0</td>\n",
              "    </tr>\n",
              "    <tr>\n",
              "      <th>2</th>\n",
              "      <td>7.426114</td>\n",
              "      <td>8.940615</td>\n",
              "      <td>0.0</td>\n",
              "      <td>0.0</td>\n",
              "      <td>2.581625</td>\n",
              "      <td>3.781231</td>\n",
              "      <td>2.529366</td>\n",
              "      <td>5.057423</td>\n",
              "      <td>5.349465</td>\n",
              "      <td>2.414715</td>\n",
              "      <td>2.168184</td>\n",
              "      <td>1.818730</td>\n",
              "      <td>3.085110</td>\n",
              "      <td>2.720484</td>\n",
              "      <td>3.302422</td>\n",
              "      <td>3.986483</td>\n",
              "      <td>3.220588</td>\n",
              "      <td>6.379500</td>\n",
              "      <td>2019-08-01 00:02:00</td>\n",
              "      <td>8</td>\n",
              "      <td>1</td>\n",
              "      <td>0</td>\n",
              "    </tr>\n",
              "    <tr>\n",
              "      <th>3</th>\n",
              "      <td>NaN</td>\n",
              "      <td>NaN</td>\n",
              "      <td>NaN</td>\n",
              "      <td>NaN</td>\n",
              "      <td>NaN</td>\n",
              "      <td>NaN</td>\n",
              "      <td>NaN</td>\n",
              "      <td>NaN</td>\n",
              "      <td>NaN</td>\n",
              "      <td>NaN</td>\n",
              "      <td>NaN</td>\n",
              "      <td>NaN</td>\n",
              "      <td>NaN</td>\n",
              "      <td>NaN</td>\n",
              "      <td>NaN</td>\n",
              "      <td>NaN</td>\n",
              "      <td>NaN</td>\n",
              "      <td>NaN</td>\n",
              "      <td>2019-08-01 00:03:00</td>\n",
              "      <td>8</td>\n",
              "      <td>1</td>\n",
              "      <td>0</td>\n",
              "    </tr>\n",
              "    <tr>\n",
              "      <th>4</th>\n",
              "      <td>7.052986</td>\n",
              "      <td>9.161103</td>\n",
              "      <td>0.0</td>\n",
              "      <td>0.0</td>\n",
              "      <td>2.592095</td>\n",
              "      <td>3.800127</td>\n",
              "      <td>2.332304</td>\n",
              "      <td>6.322521</td>\n",
              "      <td>3.995392</td>\n",
              "      <td>2.237114</td>\n",
              "      <td>3.345624</td>\n",
              "      <td>2.310409</td>\n",
              "      <td>3.132799</td>\n",
              "      <td>2.676861</td>\n",
              "      <td>3.539026</td>\n",
              "      <td>3.797881</td>\n",
              "      <td>3.131560</td>\n",
              "      <td>6.363475</td>\n",
              "      <td>2019-08-01 00:04:00</td>\n",
              "      <td>8</td>\n",
              "      <td>1</td>\n",
              "      <td>0</td>\n",
              "    </tr>\n",
              "  </tbody>\n",
              "</table>\n",
              "</div>"
            ],
            "text/plain": [
              "       AC 1      AC 2  AC 3  AC 4  ...            datetime  month  day  hour\n",
              "0  7.518632  8.788315   0.0   0.0  ... 2019-08-01 00:00:00      8    1     0\n",
              "1       NaN       NaN   NaN   NaN  ... 2019-08-01 00:01:00      8    1     0\n",
              "2  7.426114  8.940615   0.0   0.0  ... 2019-08-01 00:02:00      8    1     0\n",
              "3       NaN       NaN   NaN   NaN  ... 2019-08-01 00:03:00      8    1     0\n",
              "4  7.052986  9.161103   0.0   0.0  ... 2019-08-01 00:04:00      8    1     0\n",
              "\n",
              "[5 rows x 22 columns]"
            ]
          },
          "metadata": {},
          "execution_count": 852
        }
      ]
    },
    {
      "cell_type": "markdown",
      "metadata": {
        "id": "Foq-tHtr_2q9"
      },
      "source": [
        "##Dealing with Null Values"
      ]
    },
    {
      "cell_type": "markdown",
      "metadata": {
        "id": "OzGdHVXk_9oF"
      },
      "source": [
        "<b/>Null values in our case need not be removed straight away. We will transform the dataset to give us hourly and daily power consumption thus eliminating the need for minute to minute availability of data. </b>"
      ]
    },
    {
      "cell_type": "code",
      "metadata": {
        "id": "3xzfNwfECiPY"
      },
      "source": [
        ""
      ],
      "execution_count": 852,
      "outputs": []
    },
    {
      "cell_type": "code",
      "metadata": {
        "id": "WHrrJ-Mi_0KC"
      },
      "source": [
        "# Create a copy of above data\n",
        "new_df = data.copy()"
      ],
      "execution_count": 853,
      "outputs": []
    },
    {
      "cell_type": "code",
      "metadata": {
        "id": "WCV6glRtCkGa"
      },
      "source": [
        "new_df.fillna(0,inplace=True)"
      ],
      "execution_count": 854,
      "outputs": []
    },
    {
      "cell_type": "code",
      "metadata": {
        "colab": {
          "base_uri": "https://localhost:8080/"
        },
        "id": "pn_YMj-7BG--",
        "outputId": "43117219-a39d-4aea-9d91-f7043e9f8f08"
      },
      "source": [
        "print('Hours :',new_df.hour.unique())\n",
        "print(\"Days :\",new_df.day.unique())\n",
        "print(\"Months :\",new_df.month.unique())"
      ],
      "execution_count": 855,
      "outputs": [
        {
          "output_type": "stream",
          "name": "stdout",
          "text": [
            "Hours : [ 0  1  2  3  4  5  6  7  8  9 10 11 12 13 14 15 16 17 18 19 20 21 22 23]\n",
            "Days : [ 1  2  3  4  5  6  7  8  9 10 11 12 13 14 15 16 17 18 19 20 21 22 23 24\n",
            " 25 26 27 28 29 30 31]\n",
            "Months : [8 9]\n"
          ]
        }
      ]
    },
    {
      "cell_type": "code",
      "metadata": {
        "id": "1h2pMzKiBJOv"
      },
      "source": [
        "# Create only AC's dataframe\n",
        "ac_df = new_df.iloc[:,:18]"
      ],
      "execution_count": 856,
      "outputs": []
    },
    {
      "cell_type": "code",
      "metadata": {
        "colab": {
          "base_uri": "https://localhost:8080/",
          "height": 0
        },
        "id": "7JmUdpLvB5_V",
        "outputId": "3e08b52b-1258-46a1-e0f5-7d413f49ceee"
      },
      "source": [
        "ac_df.head(1)"
      ],
      "execution_count": 857,
      "outputs": [
        {
          "output_type": "execute_result",
          "data": {
            "text/html": [
              "<div>\n",
              "<style scoped>\n",
              "    .dataframe tbody tr th:only-of-type {\n",
              "        vertical-align: middle;\n",
              "    }\n",
              "\n",
              "    .dataframe tbody tr th {\n",
              "        vertical-align: top;\n",
              "    }\n",
              "\n",
              "    .dataframe thead th {\n",
              "        text-align: right;\n",
              "    }\n",
              "</style>\n",
              "<table border=\"1\" class=\"dataframe\">\n",
              "  <thead>\n",
              "    <tr style=\"text-align: right;\">\n",
              "      <th></th>\n",
              "      <th>AC 1</th>\n",
              "      <th>AC 2</th>\n",
              "      <th>AC 3</th>\n",
              "      <th>AC 4</th>\n",
              "      <th>AC 5</th>\n",
              "      <th>AC 6</th>\n",
              "      <th>AC 7</th>\n",
              "      <th>AC 8</th>\n",
              "      <th>AC 9</th>\n",
              "      <th>AC 10</th>\n",
              "      <th>AC 11</th>\n",
              "      <th>AC 12</th>\n",
              "      <th>AC 13</th>\n",
              "      <th>AC 14</th>\n",
              "      <th>AC 15</th>\n",
              "      <th>AC 16</th>\n",
              "      <th>AC 17</th>\n",
              "      <th>AC 18</th>\n",
              "    </tr>\n",
              "  </thead>\n",
              "  <tbody>\n",
              "    <tr>\n",
              "      <th>0</th>\n",
              "      <td>7.518632</td>\n",
              "      <td>8.788315</td>\n",
              "      <td>0.0</td>\n",
              "      <td>0.0</td>\n",
              "      <td>2.617045</td>\n",
              "      <td>4.079041</td>\n",
              "      <td>2.782276</td>\n",
              "      <td>4.624447</td>\n",
              "      <td>5.22206</td>\n",
              "      <td>2.151238</td>\n",
              "      <td>1.585072</td>\n",
              "      <td>0.560373</td>\n",
              "      <td>3.142941</td>\n",
              "      <td>2.74947</td>\n",
              "      <td>5.417774</td>\n",
              "      <td>4.11346</td>\n",
              "      <td>3.305072</td>\n",
              "      <td>6.735981</td>\n",
              "    </tr>\n",
              "  </tbody>\n",
              "</table>\n",
              "</div>"
            ],
            "text/plain": [
              "       AC 1      AC 2  AC 3  AC 4  ...     AC 15    AC 16     AC 17     AC 18\n",
              "0  7.518632  8.788315   0.0   0.0  ...  5.417774  4.11346  3.305072  6.735981\n",
              "\n",
              "[1 rows x 18 columns]"
            ]
          },
          "metadata": {},
          "execution_count": 857
        }
      ]
    },
    {
      "cell_type": "code",
      "metadata": {
        "id": "_tWEeXZOB77L"
      },
      "source": [
        "# Hourly consumption of power in all AC's in watts through the months of august and september \n",
        "hourly_df = new_df.groupby(['month','hour'],as_index=False).agg({'AC 1':'sum','AC 2':'sum', 'AC 3':'sum', 'AC 4':'sum', 'AC 5':'sum', 'AC 6':'sum', 'AC 7':'sum'\n",
        "                                  ,'AC 8':'sum', 'AC 9':'sum', 'AC 10':'sum', 'AC 11':'sum', 'AC 12':'sum', 'AC 13':'sum'\n",
        "                                   , 'AC 14':'sum', 'AC 15':'sum', 'AC 16':'sum', 'AC 17':'sum', 'AC 18':'sum'})"
      ],
      "execution_count": 858,
      "outputs": []
    },
    {
      "cell_type": "code",
      "metadata": {
        "colab": {
          "base_uri": "https://localhost:8080/",
          "height": 0
        },
        "id": "IhzIR833CKp5",
        "outputId": "07014820-4897-4f2e-c290-680cae272bd0"
      },
      "source": [
        "hourly_df.head()"
      ],
      "execution_count": 859,
      "outputs": [
        {
          "output_type": "execute_result",
          "data": {
            "text/html": [
              "<div>\n",
              "<style scoped>\n",
              "    .dataframe tbody tr th:only-of-type {\n",
              "        vertical-align: middle;\n",
              "    }\n",
              "\n",
              "    .dataframe tbody tr th {\n",
              "        vertical-align: top;\n",
              "    }\n",
              "\n",
              "    .dataframe thead th {\n",
              "        text-align: right;\n",
              "    }\n",
              "</style>\n",
              "<table border=\"1\" class=\"dataframe\">\n",
              "  <thead>\n",
              "    <tr style=\"text-align: right;\">\n",
              "      <th></th>\n",
              "      <th>month</th>\n",
              "      <th>hour</th>\n",
              "      <th>AC 1</th>\n",
              "      <th>AC 2</th>\n",
              "      <th>AC 3</th>\n",
              "      <th>AC 4</th>\n",
              "      <th>AC 5</th>\n",
              "      <th>AC 6</th>\n",
              "      <th>AC 7</th>\n",
              "      <th>AC 8</th>\n",
              "      <th>AC 9</th>\n",
              "      <th>AC 10</th>\n",
              "      <th>AC 11</th>\n",
              "      <th>AC 12</th>\n",
              "      <th>AC 13</th>\n",
              "      <th>AC 14</th>\n",
              "      <th>AC 15</th>\n",
              "      <th>AC 16</th>\n",
              "      <th>AC 17</th>\n",
              "      <th>AC 18</th>\n",
              "    </tr>\n",
              "  </thead>\n",
              "  <tbody>\n",
              "    <tr>\n",
              "      <th>0</th>\n",
              "      <td>8</td>\n",
              "      <td>0</td>\n",
              "      <td>3120.304442</td>\n",
              "      <td>4424.217386</td>\n",
              "      <td>2452.611949</td>\n",
              "      <td>2475.950995</td>\n",
              "      <td>1368.535430</td>\n",
              "      <td>2608.841387</td>\n",
              "      <td>3432.255884</td>\n",
              "      <td>2922.665952</td>\n",
              "      <td>3466.585732</td>\n",
              "      <td>1926.521868</td>\n",
              "      <td>2940.759069</td>\n",
              "      <td>3191.637622</td>\n",
              "      <td>4523.666270</td>\n",
              "      <td>3457.015174</td>\n",
              "      <td>4712.369035</td>\n",
              "      <td>3584.332546</td>\n",
              "      <td>2869.013141</td>\n",
              "      <td>4970.353589</td>\n",
              "    </tr>\n",
              "    <tr>\n",
              "      <th>1</th>\n",
              "      <td>8</td>\n",
              "      <td>1</td>\n",
              "      <td>3190.515598</td>\n",
              "      <td>4256.212569</td>\n",
              "      <td>2516.742198</td>\n",
              "      <td>2482.591014</td>\n",
              "      <td>1329.353386</td>\n",
              "      <td>2675.986514</td>\n",
              "      <td>3311.846589</td>\n",
              "      <td>2866.886756</td>\n",
              "      <td>3379.946839</td>\n",
              "      <td>1817.438359</td>\n",
              "      <td>2999.618928</td>\n",
              "      <td>3127.177966</td>\n",
              "      <td>4320.000320</td>\n",
              "      <td>3463.003060</td>\n",
              "      <td>4607.751753</td>\n",
              "      <td>3616.360133</td>\n",
              "      <td>2459.442495</td>\n",
              "      <td>3909.117886</td>\n",
              "    </tr>\n",
              "    <tr>\n",
              "      <th>2</th>\n",
              "      <td>8</td>\n",
              "      <td>2</td>\n",
              "      <td>3173.984538</td>\n",
              "      <td>4303.350055</td>\n",
              "      <td>2551.489828</td>\n",
              "      <td>2667.706978</td>\n",
              "      <td>1396.175285</td>\n",
              "      <td>2803.787954</td>\n",
              "      <td>3309.439501</td>\n",
              "      <td>2855.627261</td>\n",
              "      <td>3360.479040</td>\n",
              "      <td>1847.844352</td>\n",
              "      <td>2863.108099</td>\n",
              "      <td>3255.520049</td>\n",
              "      <td>4082.735058</td>\n",
              "      <td>3395.641840</td>\n",
              "      <td>4844.100438</td>\n",
              "      <td>3575.466337</td>\n",
              "      <td>2636.642560</td>\n",
              "      <td>3493.796554</td>\n",
              "    </tr>\n",
              "    <tr>\n",
              "      <th>3</th>\n",
              "      <td>8</td>\n",
              "      <td>3</td>\n",
              "      <td>3040.320189</td>\n",
              "      <td>4242.885373</td>\n",
              "      <td>2540.399488</td>\n",
              "      <td>2594.244080</td>\n",
              "      <td>1348.165036</td>\n",
              "      <td>2644.397321</td>\n",
              "      <td>3307.142308</td>\n",
              "      <td>2844.708395</td>\n",
              "      <td>3284.705609</td>\n",
              "      <td>1886.770651</td>\n",
              "      <td>2968.940458</td>\n",
              "      <td>3272.436927</td>\n",
              "      <td>3953.344011</td>\n",
              "      <td>3533.223732</td>\n",
              "      <td>4815.611468</td>\n",
              "      <td>3463.408381</td>\n",
              "      <td>2772.550072</td>\n",
              "      <td>3385.644059</td>\n",
              "    </tr>\n",
              "    <tr>\n",
              "      <th>4</th>\n",
              "      <td>8</td>\n",
              "      <td>4</td>\n",
              "      <td>2915.538058</td>\n",
              "      <td>4118.351680</td>\n",
              "      <td>2495.437653</td>\n",
              "      <td>2571.553638</td>\n",
              "      <td>1355.229713</td>\n",
              "      <td>2526.517727</td>\n",
              "      <td>3296.930470</td>\n",
              "      <td>2740.151189</td>\n",
              "      <td>3367.088089</td>\n",
              "      <td>1838.996377</td>\n",
              "      <td>2850.774322</td>\n",
              "      <td>3119.938972</td>\n",
              "      <td>3967.066257</td>\n",
              "      <td>3393.255932</td>\n",
              "      <td>4723.066929</td>\n",
              "      <td>3403.965793</td>\n",
              "      <td>3083.957848</td>\n",
              "      <td>3793.714157</td>\n",
              "    </tr>\n",
              "  </tbody>\n",
              "</table>\n",
              "</div>"
            ],
            "text/plain": [
              "   month  hour         AC 1  ...        AC 16        AC 17        AC 18\n",
              "0      8     0  3120.304442  ...  3584.332546  2869.013141  4970.353589\n",
              "1      8     1  3190.515598  ...  3616.360133  2459.442495  3909.117886\n",
              "2      8     2  3173.984538  ...  3575.466337  2636.642560  3493.796554\n",
              "3      8     3  3040.320189  ...  3463.408381  2772.550072  3385.644059\n",
              "4      8     4  2915.538058  ...  3403.965793  3083.957848  3793.714157\n",
              "\n",
              "[5 rows x 20 columns]"
            ]
          },
          "metadata": {},
          "execution_count": 859
        }
      ]
    },
    {
      "cell_type": "code",
      "metadata": {
        "colab": {
          "base_uri": "https://localhost:8080/",
          "height": 0
        },
        "id": "CY2axxyfCMxM",
        "outputId": "8a51c006-694e-49dd-a018-ec115f446b83"
      },
      "source": [
        "hourly_df[ac_df.columns].describe()"
      ],
      "execution_count": 860,
      "outputs": [
        {
          "output_type": "execute_result",
          "data": {
            "text/html": [
              "<div>\n",
              "<style scoped>\n",
              "    .dataframe tbody tr th:only-of-type {\n",
              "        vertical-align: middle;\n",
              "    }\n",
              "\n",
              "    .dataframe tbody tr th {\n",
              "        vertical-align: top;\n",
              "    }\n",
              "\n",
              "    .dataframe thead th {\n",
              "        text-align: right;\n",
              "    }\n",
              "</style>\n",
              "<table border=\"1\" class=\"dataframe\">\n",
              "  <thead>\n",
              "    <tr style=\"text-align: right;\">\n",
              "      <th></th>\n",
              "      <th>AC 1</th>\n",
              "      <th>AC 2</th>\n",
              "      <th>AC 3</th>\n",
              "      <th>AC 4</th>\n",
              "      <th>AC 5</th>\n",
              "      <th>AC 6</th>\n",
              "      <th>AC 7</th>\n",
              "      <th>AC 8</th>\n",
              "      <th>AC 9</th>\n",
              "      <th>AC 10</th>\n",
              "      <th>AC 11</th>\n",
              "      <th>AC 12</th>\n",
              "      <th>AC 13</th>\n",
              "      <th>AC 14</th>\n",
              "      <th>AC 15</th>\n",
              "      <th>AC 16</th>\n",
              "      <th>AC 17</th>\n",
              "      <th>AC 18</th>\n",
              "    </tr>\n",
              "  </thead>\n",
              "  <tbody>\n",
              "    <tr>\n",
              "      <th>count</th>\n",
              "      <td>48.000000</td>\n",
              "      <td>48.000000</td>\n",
              "      <td>48.000000</td>\n",
              "      <td>48.000000</td>\n",
              "      <td>48.000000</td>\n",
              "      <td>48.000000</td>\n",
              "      <td>48.000000</td>\n",
              "      <td>48.000000</td>\n",
              "      <td>48.000000</td>\n",
              "      <td>48.000000</td>\n",
              "      <td>48.000000</td>\n",
              "      <td>48.000000</td>\n",
              "      <td>48.000000</td>\n",
              "      <td>48.000000</td>\n",
              "      <td>48.000000</td>\n",
              "      <td>48.000000</td>\n",
              "      <td>48.000000</td>\n",
              "      <td>48.000000</td>\n",
              "    </tr>\n",
              "    <tr>\n",
              "      <th>mean</th>\n",
              "      <td>2166.612979</td>\n",
              "      <td>3523.190582</td>\n",
              "      <td>2339.019938</td>\n",
              "      <td>2180.791776</td>\n",
              "      <td>1294.812659</td>\n",
              "      <td>2293.446498</td>\n",
              "      <td>2712.541861</td>\n",
              "      <td>2320.601171</td>\n",
              "      <td>2896.063002</td>\n",
              "      <td>1400.213083</td>\n",
              "      <td>2189.087294</td>\n",
              "      <td>2458.527104</td>\n",
              "      <td>3898.179812</td>\n",
              "      <td>2655.553370</td>\n",
              "      <td>3685.067905</td>\n",
              "      <td>2549.795735</td>\n",
              "      <td>3842.259633</td>\n",
              "      <td>5886.824357</td>\n",
              "    </tr>\n",
              "    <tr>\n",
              "      <th>std</th>\n",
              "      <td>503.196917</td>\n",
              "      <td>405.336935</td>\n",
              "      <td>234.121375</td>\n",
              "      <td>275.677347</td>\n",
              "      <td>119.990826</td>\n",
              "      <td>451.455328</td>\n",
              "      <td>396.972796</td>\n",
              "      <td>509.580416</td>\n",
              "      <td>392.278187</td>\n",
              "      <td>267.682889</td>\n",
              "      <td>524.977130</td>\n",
              "      <td>482.527375</td>\n",
              "      <td>364.835841</td>\n",
              "      <td>665.780533</td>\n",
              "      <td>681.462432</td>\n",
              "      <td>515.959239</td>\n",
              "      <td>536.539725</td>\n",
              "      <td>1176.386791</td>\n",
              "    </tr>\n",
              "    <tr>\n",
              "      <th>min</th>\n",
              "      <td>1480.171283</td>\n",
              "      <td>2890.362158</td>\n",
              "      <td>1903.945288</td>\n",
              "      <td>1656.272819</td>\n",
              "      <td>1054.134105</td>\n",
              "      <td>1628.245096</td>\n",
              "      <td>1972.584203</td>\n",
              "      <td>1492.636850</td>\n",
              "      <td>2303.016384</td>\n",
              "      <td>937.056996</td>\n",
              "      <td>1223.696453</td>\n",
              "      <td>1631.245812</td>\n",
              "      <td>3291.898824</td>\n",
              "      <td>1529.652159</td>\n",
              "      <td>2377.439513</td>\n",
              "      <td>1634.989479</td>\n",
              "      <td>2459.442495</td>\n",
              "      <td>3385.644059</td>\n",
              "    </tr>\n",
              "    <tr>\n",
              "      <th>25%</th>\n",
              "      <td>1737.856297</td>\n",
              "      <td>3236.741560</td>\n",
              "      <td>2157.794904</td>\n",
              "      <td>1964.322976</td>\n",
              "      <td>1220.179661</td>\n",
              "      <td>1951.940004</td>\n",
              "      <td>2350.750391</td>\n",
              "      <td>1878.489690</td>\n",
              "      <td>2585.309459</td>\n",
              "      <td>1198.128103</td>\n",
              "      <td>1810.906622</td>\n",
              "      <td>2107.213056</td>\n",
              "      <td>3645.747117</td>\n",
              "      <td>2177.052078</td>\n",
              "      <td>3166.536476</td>\n",
              "      <td>2178.111415</td>\n",
              "      <td>3407.882107</td>\n",
              "      <td>5116.018383</td>\n",
              "    </tr>\n",
              "    <tr>\n",
              "      <th>50%</th>\n",
              "      <td>2053.613435</td>\n",
              "      <td>3468.118239</td>\n",
              "      <td>2377.340892</td>\n",
              "      <td>2161.249391</td>\n",
              "      <td>1282.129831</td>\n",
              "      <td>2206.189324</td>\n",
              "      <td>2704.593268</td>\n",
              "      <td>2141.905521</td>\n",
              "      <td>2754.298910</td>\n",
              "      <td>1310.721965</td>\n",
              "      <td>2098.974976</td>\n",
              "      <td>2298.461869</td>\n",
              "      <td>3877.435432</td>\n",
              "      <td>2407.962855</td>\n",
              "      <td>3656.609324</td>\n",
              "      <td>2408.167449</td>\n",
              "      <td>4124.827971</td>\n",
              "      <td>6217.238866</td>\n",
              "    </tr>\n",
              "    <tr>\n",
              "      <th>75%</th>\n",
              "      <td>2636.596560</td>\n",
              "      <td>3813.391169</td>\n",
              "      <td>2503.633342</td>\n",
              "      <td>2420.301526</td>\n",
              "      <td>1352.182560</td>\n",
              "      <td>2583.520505</td>\n",
              "      <td>3078.101969</td>\n",
              "      <td>2812.025034</td>\n",
              "      <td>3271.064787</td>\n",
              "      <td>1619.025580</td>\n",
              "      <td>2710.259503</td>\n",
              "      <td>2980.780917</td>\n",
              "      <td>4064.276937</td>\n",
              "      <td>3331.379759</td>\n",
              "      <td>4299.421079</td>\n",
              "      <td>2902.888368</td>\n",
              "      <td>4233.651226</td>\n",
              "      <td>6634.447618</td>\n",
              "    </tr>\n",
              "    <tr>\n",
              "      <th>max</th>\n",
              "      <td>3190.515598</td>\n",
              "      <td>4424.217386</td>\n",
              "      <td>2828.961583</td>\n",
              "      <td>2667.706978</td>\n",
              "      <td>1545.589268</td>\n",
              "      <td>3198.703783</td>\n",
              "      <td>3432.255884</td>\n",
              "      <td>3301.823183</td>\n",
              "      <td>3540.922979</td>\n",
              "      <td>1926.521868</td>\n",
              "      <td>2999.618928</td>\n",
              "      <td>3272.436927</td>\n",
              "      <td>4822.765716</td>\n",
              "      <td>3950.813750</td>\n",
              "      <td>4844.100438</td>\n",
              "      <td>3616.360133</td>\n",
              "      <td>4445.602788</td>\n",
              "      <td>7970.375206</td>\n",
              "    </tr>\n",
              "  </tbody>\n",
              "</table>\n",
              "</div>"
            ],
            "text/plain": [
              "              AC 1         AC 2  ...        AC 17        AC 18\n",
              "count    48.000000    48.000000  ...    48.000000    48.000000\n",
              "mean   2166.612979  3523.190582  ...  3842.259633  5886.824357\n",
              "std     503.196917   405.336935  ...   536.539725  1176.386791\n",
              "min    1480.171283  2890.362158  ...  2459.442495  3385.644059\n",
              "25%    1737.856297  3236.741560  ...  3407.882107  5116.018383\n",
              "50%    2053.613435  3468.118239  ...  4124.827971  6217.238866\n",
              "75%    2636.596560  3813.391169  ...  4233.651226  6634.447618\n",
              "max    3190.515598  4424.217386  ...  4445.602788  7970.375206\n",
              "\n",
              "[8 rows x 18 columns]"
            ]
          },
          "metadata": {},
          "execution_count": 860
        }
      ]
    },
    {
      "cell_type": "code",
      "metadata": {
        "colab": {
          "base_uri": "https://localhost:8080/",
          "height": 0
        },
        "id": "dfXj7xdhCTRH",
        "outputId": "41b396e5-7e06-4dc0-afc4-d94ce93291dd"
      },
      "source": [
        "# Plot average power consumption in all AC's\n",
        "plt.figure(figsize=(16,10))\n",
        "plt.title(\"Average power consumption for AC's for the given two months\",size=13)\n",
        "plt.xlabel('watts',size=13)\n",
        "hourly_df[ac_df.columns].describe().loc['mean'].sort_values(ascending=True).plot(kind='barh',color='r')"
      ],
      "execution_count": 861,
      "outputs": [
        {
          "output_type": "execute_result",
          "data": {
            "text/plain": [
              "<matplotlib.axes._subplots.AxesSubplot at 0x7fdcf75de8d0>"
            ]
          },
          "metadata": {},
          "execution_count": 861
        },
        {
          "output_type": "display_data",
          "data": {
            "image/png": "[encoded data removed]",
            "text/plain": [
              "<Figure size 1152x720 with 1 Axes>"
            ]
          },
          "metadata": {
            "needs_background": "light"
          }
        }
      ]
    },
    {
      "cell_type": "code",
      "metadata": {
        "colab": {
          "base_uri": "https://localhost:8080/"
        },
        "id": "GiGwQ6ZFDW_F",
        "outputId": "a9ec0858-4eb0-477f-aa98-85606ae30461"
      },
      "source": [
        "# Higest average hourly power consumption \n",
        "print('Highest Average power consumption',hourly_df[ac_df.columns].describe().loc['mean'].sort_values(ascending=False)[:1])\n",
        "\n",
        "# Lowest average hourly power consumption \n",
        "print('Lowest Average power consumption',hourly_df[ac_df.columns].describe().loc['mean'].sort_values(ascending=True)[:1])"
      ],
      "execution_count": 862,
      "outputs": [
        {
          "output_type": "stream",
          "name": "stdout",
          "text": [
            "Highest Average power consumption AC 18    5886.824357\n",
            "Name: mean, dtype: float64\n",
            "Lowest Average power consumption AC 5    1294.812659\n",
            "Name: mean, dtype: float64\n"
          ]
        }
      ]
    },
    {
      "cell_type": "markdown",
      "metadata": {
        "id": "QRvcc5eOEbY2"
      },
      "source": [
        "##Observations:\n",
        "\n",
        "* <b/>AC 18 which could be an AC in the room 18 has the highest average power \n",
        "consumption of about 5887 watts which is 5.9 units approx\n",
        "* AC 5 has the lowest average power consumption of 1294 watts which is approx 1.2 units for the two months of august and september </b>"
      ]
    },
    {
      "cell_type": "markdown",
      "metadata": {
        "id": "Ldt3nbXfEv8J"
      },
      "source": [
        "###Let's see if the scene would be any different month wise"
      ]
    },
    {
      "cell_type": "code",
      "metadata": {
        "colab": {
          "base_uri": "https://localhost:8080/",
          "height": 644
        },
        "id": "6MM83c8PEKqO",
        "outputId": "9543a42b-4523-4d20-d25e-ca370e5db937"
      },
      "source": [
        "plt.figure(figsize=(16,10))\n",
        "plt.subplot(211)\n",
        "plt.title('average power consumption for the month of august')\n",
        "plt.ylabel('watts',size=13)\n",
        "hourly_df.query('month==8').describe().loc['mean'].iloc[2:].sort_values().plot(kind='bar')\n",
        "plt.subplot(212,facecolor='y')\n",
        "plt.title('average power consumption for the month of september')\n",
        "plt.ylabel('watts',size=13)\n",
        "hourly_df.query('month==9').describe().loc['mean'].iloc[2:].sort_values().plot(kind='bar')"
      ],
      "execution_count": 863,
      "outputs": [
        {
          "output_type": "execute_result",
          "data": {
            "text/plain": [
              "<matplotlib.axes._subplots.AxesSubplot at 0x7fdcfb0fbfd0>"
            ]
          },
          "metadata": {},
          "execution_count": 863
        },
        {
          "output_type": "display_data",
          "data": {
            "image/png": "[encoded data removed]",
            "text/plain": [
              "<Figure size 1152x720 with 2 Axes>"
            ]
          },
          "metadata": {
            "needs_background": "light"
          }
        }
      ]
    },
    {
      "cell_type": "code",
      "metadata": {
        "colab": {
          "base_uri": "https://localhost:8080/"
        },
        "id": "m0JTbF0ME223",
        "outputId": "cbb52599-39ee-4d8c-82f9-88fab97dff1b"
      },
      "source": [
        "# Top average power consumptions in the month of august\n",
        "print('Highest average consumption august: ',hourly_df.query('month==8').describe().loc['mean'].iloc[2:].sort_values(ascending=False)[:1])\n",
        "\n",
        "# Lowest average power consumptions in the month of august\n",
        "print('Lowest average consumption august: ',hourly_df.query('month==8').describe().loc['mean'].iloc[2:].sort_values(ascending=True)[:1])"
      ],
      "execution_count": 864,
      "outputs": [
        {
          "output_type": "stream",
          "name": "stdout",
          "text": [
            "Highest average consumption august:  AC 18    6034.661077\n",
            "Name: mean, dtype: float64\n",
            "Lowest average consumption august:  AC 5    1248.533182\n",
            "Name: mean, dtype: float64\n"
          ]
        }
      ]
    },
    {
      "cell_type": "code",
      "metadata": {
        "colab": {
          "base_uri": "https://localhost:8080/"
        },
        "id": "8EGo-OM9E6xZ",
        "outputId": "798d93cf-9ab3-4b37-a9c0-dbc14be61b2f"
      },
      "source": [
        "# Top  average power consumptions in the month of september\n",
        "print('Highest average consumption september: ',hourly_df.query('month==9').describe().loc['mean'].iloc[2:].sort_values(ascending=False)[:1])\n",
        "\n",
        "# Lowest average power consumptions in the month of september\n",
        "print('Lowest average consumption september: ',hourly_df.query('month==9').describe().loc['mean'].iloc[2:].sort_values(ascending=True)[:1])"
      ],
      "execution_count": 865,
      "outputs": [
        {
          "output_type": "stream",
          "name": "stdout",
          "text": [
            "Highest average consumption september:  AC 18    5738.987637\n",
            "Name: mean, dtype: float64\n",
            "Lowest average consumption september:  AC 10    1308.442803\n",
            "Name: mean, dtype: float64\n"
          ]
        }
      ]
    },
    {
      "cell_type": "markdown",
      "metadata": {
        "id": "w3VRwYddFKuF"
      },
      "source": [
        "##Observations:\n",
        "\n",
        "* <b/>Top average power consumption for combined usage in the months of august and september is for AC 18 which means AC 18 has been used the most.\n",
        "* Least power consumption for the given months of august and september is for AC 5 which means that AC 5 has been used the least.\n",
        "* Lowest average power consumption is for AC 5 and AC 10 for the months of august and september respectively.\n",
        "* Highest average power consumption is higher and the lowest average power consumption is lower for the month of August when compared to september. </b>\n"
      ]
    },
    {
      "cell_type": "code",
      "metadata": {
        "id": "aivRML3qFGWi"
      },
      "source": [
        "# Create a new column for total hourly consumption\n",
        "hourly_df['total_hourly_consumption'] = hourly_df.sum(axis=1)\n",
        "hourly_df['average_hourly_consumption'] = hourly_df.mean(axis=1)"
      ],
      "execution_count": 866,
      "outputs": []
    },
    {
      "cell_type": "code",
      "metadata": {
        "id": "utz975U1GWja"
      },
      "source": [
        "# Create a new column for total units of electricity consumed per hour\n",
        "# 1 unit = 1000W/hour or 1KW/h\n",
        "hourly_df['total_units_consumed'] = round(hourly_df['total_hourly_consumption'] /1000,3)\n",
        "hourly_df['average_units_consumed'] = round(hourly_df['average_hourly_consumption'] /1000,3)"
      ],
      "execution_count": 867,
      "outputs": []
    },
    {
      "cell_type": "code",
      "metadata": {
        "colab": {
          "base_uri": "https://localhost:8080/",
          "height": 223
        },
        "id": "1L2l-qKIGYi0",
        "outputId": "a048547c-4e82-4d40-f2fa-63e7a5d84897"
      },
      "source": [
        "hourly_df.head()"
      ],
      "execution_count": 868,
      "outputs": [
        {
          "output_type": "execute_result",
          "data": {
            "text/html": [
              "<div>\n",
              "<style scoped>\n",
              "    .dataframe tbody tr th:only-of-type {\n",
              "        vertical-align: middle;\n",
              "    }\n",
              "\n",
              "    .dataframe tbody tr th {\n",
              "        vertical-align: top;\n",
              "    }\n",
              "\n",
              "    .dataframe thead th {\n",
              "        text-align: right;\n",
              "    }\n",
              "</style>\n",
              "<table border=\"1\" class=\"dataframe\">\n",
              "  <thead>\n",
              "    <tr style=\"text-align: right;\">\n",
              "      <th></th>\n",
              "      <th>month</th>\n",
              "      <th>hour</th>\n",
              "      <th>AC 1</th>\n",
              "      <th>AC 2</th>\n",
              "      <th>AC 3</th>\n",
              "      <th>AC 4</th>\n",
              "      <th>AC 5</th>\n",
              "      <th>AC 6</th>\n",
              "      <th>AC 7</th>\n",
              "      <th>AC 8</th>\n",
              "      <th>AC 9</th>\n",
              "      <th>AC 10</th>\n",
              "      <th>AC 11</th>\n",
              "      <th>AC 12</th>\n",
              "      <th>AC 13</th>\n",
              "      <th>AC 14</th>\n",
              "      <th>AC 15</th>\n",
              "      <th>AC 16</th>\n",
              "      <th>AC 17</th>\n",
              "      <th>AC 18</th>\n",
              "      <th>total_hourly_consumption</th>\n",
              "      <th>average_hourly_consumption</th>\n",
              "      <th>total_units_consumed</th>\n",
              "      <th>average_units_consumed</th>\n",
              "    </tr>\n",
              "  </thead>\n",
              "  <tbody>\n",
              "    <tr>\n",
              "      <th>0</th>\n",
              "      <td>8</td>\n",
              "      <td>0</td>\n",
              "      <td>3120.304442</td>\n",
              "      <td>4424.217386</td>\n",
              "      <td>2452.611949</td>\n",
              "      <td>2475.950995</td>\n",
              "      <td>1368.535430</td>\n",
              "      <td>2608.841387</td>\n",
              "      <td>3432.255884</td>\n",
              "      <td>2922.665952</td>\n",
              "      <td>3466.585732</td>\n",
              "      <td>1926.521868</td>\n",
              "      <td>2940.759069</td>\n",
              "      <td>3191.637622</td>\n",
              "      <td>4523.666270</td>\n",
              "      <td>3457.015174</td>\n",
              "      <td>4712.369035</td>\n",
              "      <td>3584.332546</td>\n",
              "      <td>2869.013141</td>\n",
              "      <td>4970.353589</td>\n",
              "      <td>58455.637468</td>\n",
              "      <td>5567.203568</td>\n",
              "      <td>58.456</td>\n",
              "      <td>5.567</td>\n",
              "    </tr>\n",
              "    <tr>\n",
              "      <th>1</th>\n",
              "      <td>8</td>\n",
              "      <td>1</td>\n",
              "      <td>3190.515598</td>\n",
              "      <td>4256.212569</td>\n",
              "      <td>2516.742198</td>\n",
              "      <td>2482.591014</td>\n",
              "      <td>1329.353386</td>\n",
              "      <td>2675.986514</td>\n",
              "      <td>3311.846589</td>\n",
              "      <td>2866.886756</td>\n",
              "      <td>3379.946839</td>\n",
              "      <td>1817.438359</td>\n",
              "      <td>2999.618928</td>\n",
              "      <td>3127.177966</td>\n",
              "      <td>4320.000320</td>\n",
              "      <td>3463.003060</td>\n",
              "      <td>4607.751753</td>\n",
              "      <td>3616.360133</td>\n",
              "      <td>2459.442495</td>\n",
              "      <td>3909.117886</td>\n",
              "      <td>56338.992362</td>\n",
              "      <td>5365.618320</td>\n",
              "      <td>56.339</td>\n",
              "      <td>5.366</td>\n",
              "    </tr>\n",
              "    <tr>\n",
              "      <th>2</th>\n",
              "      <td>8</td>\n",
              "      <td>2</td>\n",
              "      <td>3173.984538</td>\n",
              "      <td>4303.350055</td>\n",
              "      <td>2551.489828</td>\n",
              "      <td>2667.706978</td>\n",
              "      <td>1396.175285</td>\n",
              "      <td>2803.787954</td>\n",
              "      <td>3309.439501</td>\n",
              "      <td>2855.627261</td>\n",
              "      <td>3360.479040</td>\n",
              "      <td>1847.844352</td>\n",
              "      <td>2863.108099</td>\n",
              "      <td>3255.520049</td>\n",
              "      <td>4082.735058</td>\n",
              "      <td>3395.641840</td>\n",
              "      <td>4844.100438</td>\n",
              "      <td>3575.466337</td>\n",
              "      <td>2636.642560</td>\n",
              "      <td>3493.796554</td>\n",
              "      <td>56426.895726</td>\n",
              "      <td>5373.990069</td>\n",
              "      <td>56.427</td>\n",
              "      <td>5.374</td>\n",
              "    </tr>\n",
              "    <tr>\n",
              "      <th>3</th>\n",
              "      <td>8</td>\n",
              "      <td>3</td>\n",
              "      <td>3040.320189</td>\n",
              "      <td>4242.885373</td>\n",
              "      <td>2540.399488</td>\n",
              "      <td>2594.244080</td>\n",
              "      <td>1348.165036</td>\n",
              "      <td>2644.397321</td>\n",
              "      <td>3307.142308</td>\n",
              "      <td>2844.708395</td>\n",
              "      <td>3284.705609</td>\n",
              "      <td>1886.770651</td>\n",
              "      <td>2968.940458</td>\n",
              "      <td>3272.436927</td>\n",
              "      <td>3953.344011</td>\n",
              "      <td>3533.223732</td>\n",
              "      <td>4815.611468</td>\n",
              "      <td>3463.408381</td>\n",
              "      <td>2772.550072</td>\n",
              "      <td>3385.644059</td>\n",
              "      <td>55909.897558</td>\n",
              "      <td>5324.752148</td>\n",
              "      <td>55.910</td>\n",
              "      <td>5.325</td>\n",
              "    </tr>\n",
              "    <tr>\n",
              "      <th>4</th>\n",
              "      <td>8</td>\n",
              "      <td>4</td>\n",
              "      <td>2915.538058</td>\n",
              "      <td>4118.351680</td>\n",
              "      <td>2495.437653</td>\n",
              "      <td>2571.553638</td>\n",
              "      <td>1355.229713</td>\n",
              "      <td>2526.517727</td>\n",
              "      <td>3296.930470</td>\n",
              "      <td>2740.151189</td>\n",
              "      <td>3367.088089</td>\n",
              "      <td>1838.996377</td>\n",
              "      <td>2850.774322</td>\n",
              "      <td>3119.938972</td>\n",
              "      <td>3967.066257</td>\n",
              "      <td>3393.255932</td>\n",
              "      <td>4723.066929</td>\n",
              "      <td>3403.965793</td>\n",
              "      <td>3083.957848</td>\n",
              "      <td>3793.714157</td>\n",
              "      <td>55573.534805</td>\n",
              "      <td>5292.717600</td>\n",
              "      <td>55.574</td>\n",
              "      <td>5.293</td>\n",
              "    </tr>\n",
              "  </tbody>\n",
              "</table>\n",
              "</div>"
            ],
            "text/plain": [
              "   month  hour  ...  total_units_consumed  average_units_consumed\n",
              "0      8     0  ...                58.456                   5.567\n",
              "1      8     1  ...                56.339                   5.366\n",
              "2      8     2  ...                56.427                   5.374\n",
              "3      8     3  ...                55.910                   5.325\n",
              "4      8     4  ...                55.574                   5.293\n",
              "\n",
              "[5 rows x 24 columns]"
            ]
          },
          "metadata": {},
          "execution_count": 868
        }
      ]
    },
    {
      "cell_type": "markdown",
      "metadata": {
        "id": "IbXgzqapKHwZ"
      },
      "source": [
        "### Following Graph shows total hourly power consumption for the months of august and september "
      ]
    },
    {
      "cell_type": "code",
      "metadata": {
        "colab": {
          "base_uri": "https://localhost:8080/",
          "height": 463
        },
        "id": "I_hgAcuxGaJT",
        "outputId": "6cb284fa-67e4-493a-a058-2d135fe19b13"
      },
      "source": [
        "plt.figure(figsize=(16,7))\n",
        "plt.plot(range(24),hourly_df.query('month==8').total_units_consumed,label='August')\n",
        "plt.plot(range(24),hourly_df.query('month==9').total_units_consumed,label = 'September')\n",
        "plt.title('Hourly total power consumption for all ACs',size=15)\n",
        "plt.xlabel('Hour',size=13)\n",
        "plt.ylabel('Units',size=13)\n",
        "plt.xticks(ticks=range(24))\n",
        "plt.legend()\n",
        "plt.show()"
      ],
      "execution_count": 869,
      "outputs": [
        {
          "output_type": "display_data",
          "data": {
            "image/png": "[encoded data removed]",
            "text/plain": [
              "<Figure size 1152x504 with 1 Axes>"
            ]
          },
          "metadata": {
            "needs_background": "light"
          }
        }
      ]
    },
    {
      "cell_type": "markdown",
      "metadata": {
        "id": "sJ-l4whQ8acf"
      },
      "source": [
        "###The following graph depicts average power consumption per AC on an hourly basis"
      ]
    },
    {
      "cell_type": "code",
      "metadata": {
        "colab": {
          "base_uri": "https://localhost:8080/",
          "height": 0
        },
        "id": "Z1r5VdoF8LKv",
        "outputId": "d05d64a2-d68c-4f4d-85ce-bf0ce60e54e7"
      },
      "source": [
        "plt.figure(figsize=(16,7))\n",
        "plt.plot(range(24),hourly_df.query('month==8').average_units_consumed,label='August')\n",
        "plt.plot(range(24),hourly_df.query('month==9').average_units_consumed,label = 'September')\n",
        "plt.title('Hourly power consumption per AC',size=15)\n",
        "plt.xlabel('Hour',size=13)\n",
        "plt.ylabel('Units',size=13)\n",
        "plt.xticks(ticks=range(24))\n",
        "plt.legend()\n",
        "plt.show()"
      ],
      "execution_count": 870,
      "outputs": [
        {
          "output_type": "display_data",
          "data": {
            "image/png": "[encoded data removed]",
            "text/plain": [
              "<Figure size 1152x504 with 1 Axes>"
            ]
          },
          "metadata": {
            "needs_background": "light"
          }
        }
      ]
    },
    {
      "cell_type": "code",
      "metadata": {
        "colab": {
          "base_uri": "https://localhost:8080/",
          "height": 0
        },
        "id": "rT94kqn-GeSC",
        "outputId": "02d65ad6-699d-41ac-bf0c-a7cc910a01b3"
      },
      "source": [
        "# Total units of electricity consumed per month\n",
        "hourly_df.groupby('month').agg({'total_units_consumed':'sum'})"
      ],
      "execution_count": 871,
      "outputs": [
        {
          "output_type": "execute_result",
          "data": {
            "text/html": [
              "<div>\n",
              "<style scoped>\n",
              "    .dataframe tbody tr th:only-of-type {\n",
              "        vertical-align: middle;\n",
              "    }\n",
              "\n",
              "    .dataframe tbody tr th {\n",
              "        vertical-align: top;\n",
              "    }\n",
              "\n",
              "    .dataframe thead th {\n",
              "        text-align: right;\n",
              "    }\n",
              "</style>\n",
              "<table border=\"1\" class=\"dataframe\">\n",
              "  <thead>\n",
              "    <tr style=\"text-align: right;\">\n",
              "      <th></th>\n",
              "      <th>total_units_consumed</th>\n",
              "    </tr>\n",
              "    <tr>\n",
              "      <th>month</th>\n",
              "      <th></th>\n",
              "    </tr>\n",
              "  </thead>\n",
              "  <tbody>\n",
              "    <tr>\n",
              "      <th>8</th>\n",
              "      <td>1227.509</td>\n",
              "    </tr>\n",
              "    <tr>\n",
              "      <th>9</th>\n",
              "      <td>1187.500</td>\n",
              "    </tr>\n",
              "  </tbody>\n",
              "</table>\n",
              "</div>"
            ],
            "text/plain": [
              "       total_units_consumed\n",
              "month                      \n",
              "8                  1227.509\n",
              "9                  1187.500"
            ]
          },
          "metadata": {},
          "execution_count": 871
        }
      ]
    },
    {
      "cell_type": "code",
      "metadata": {
        "colab": {
          "base_uri": "https://localhost:8080/",
          "height": 0
        },
        "id": "Q5o116ECGtQK",
        "outputId": "006375e5-9000-4905-a572-faf1ce6f5772"
      },
      "source": [
        "# Plot total power consumed in each month\n",
        "plt.rcParams['figure.figsize']= (10,6)\n",
        "hourly_df.groupby('month').agg({'total_units_consumed':'sum'}).plot(kind='bar',color='r')\n",
        "plt.ylabel('Units',size=13)\n",
        "plt.xlabel('Month',size=13)\n",
        "plt.title(\"Total units consumed in two months by AC's\",size=15)"
      ],
      "execution_count": 872,
      "outputs": [
        {
          "output_type": "execute_result",
          "data": {
            "text/plain": [
              "Text(0.5, 1.0, \"Total units consumed in two months by AC's\")"
            ]
          },
          "metadata": {},
          "execution_count": 872
        },
        {
          "output_type": "display_data",
          "data": {
            "image/png": "[encoded data removed]",
            "text/plain": [
              "<Figure size 720x432 with 1 Axes>"
            ]
          },
          "metadata": {
            "needs_background": "light"
          }
        }
      ]
    },
    {
      "cell_type": "markdown",
      "metadata": {
        "id": "JILORW0NQ28H"
      },
      "source": [
        "<b>Overall power consumption is a bit higher in August as compared to September</b>"
      ]
    },
    {
      "cell_type": "markdown",
      "metadata": {
        "id": "GAz5HS5ZISNa"
      },
      "source": [
        "##Observations:\n",
        "* <b/>There are distinct peak and non-peak hours for the power consumption by AC's\n",
        "* Average Power consumption in the Hotel rooms drops during the night hours, falling Sharply during the morning hours.\n",
        "* Power consumption remains low past 10:00 AM, as guests are expected to go out during the day for shopping, work, etc.\n",
        "* AC usage starts to increase sharply past 8:00 PM in the evening peaking towards the mid-night </b>"
      ]
    },
    {
      "cell_type": "markdown",
      "metadata": {
        "id": "Tz4bs7mG8wL4"
      },
      "source": [
        "##**Obtaining temperature data**"
      ]
    },
    {
      "cell_type": "markdown",
      "metadata": {
        "id": "J-Ep_OEWyVpC"
      },
      "source": [
        "###I couldn't download the weather data directly using API, i instead downloaded the weather data for gurgaon for the two months of august and september as a csv file from visualcrossing.com"
      ]
    },
    {
      "cell_type": "code",
      "metadata": {
        "id": "DJWRa5NgvnBF"
      },
      "source": [
        "# Load the data from drive\n",
        "temperature_df = pd.read_csv(\"/content/drive/MyDrive/Data files/history_data.csv\")"
      ],
      "execution_count": 873,
      "outputs": []
    },
    {
      "cell_type": "code",
      "metadata": {
        "colab": {
          "base_uri": "https://localhost:8080/",
          "height": 304
        },
        "id": "Virv6i45xk-H",
        "outputId": "705adf83-19ab-43f7-8ae7-2b566d06de8a"
      },
      "source": [
        "temperature_df.head()"
      ],
      "execution_count": 874,
      "outputs": [
        {
          "output_type": "execute_result",
          "data": {
            "text/html": [
              "<div>\n",
              "<style scoped>\n",
              "    .dataframe tbody tr th:only-of-type {\n",
              "        vertical-align: middle;\n",
              "    }\n",
              "\n",
              "    .dataframe tbody tr th {\n",
              "        vertical-align: top;\n",
              "    }\n",
              "\n",
              "    .dataframe thead th {\n",
              "        text-align: right;\n",
              "    }\n",
              "</style>\n",
              "<table border=\"1\" class=\"dataframe\">\n",
              "  <thead>\n",
              "    <tr style=\"text-align: right;\">\n",
              "      <th></th>\n",
              "      <th>Name</th>\n",
              "      <th>Date time</th>\n",
              "      <th>Maximum Temperature</th>\n",
              "      <th>Minimum Temperature</th>\n",
              "      <th>Temperature</th>\n",
              "      <th>Wind Chill</th>\n",
              "      <th>Heat Index</th>\n",
              "      <th>Precipitation</th>\n",
              "      <th>Snow</th>\n",
              "      <th>Snow Depth</th>\n",
              "      <th>Wind Speed</th>\n",
              "      <th>Wind Direction</th>\n",
              "      <th>Wind Gust</th>\n",
              "      <th>Visibility</th>\n",
              "      <th>Cloud Cover</th>\n",
              "      <th>Relative Humidity</th>\n",
              "      <th>Conditions</th>\n",
              "    </tr>\n",
              "  </thead>\n",
              "  <tbody>\n",
              "    <tr>\n",
              "      <th>0</th>\n",
              "      <td>Gurugram, HR, India</td>\n",
              "      <td>08/01/2019</td>\n",
              "      <td>35.3</td>\n",
              "      <td>28.6</td>\n",
              "      <td>31.6</td>\n",
              "      <td>NaN</td>\n",
              "      <td>45.3</td>\n",
              "      <td>0.20</td>\n",
              "      <td>NaN</td>\n",
              "      <td>NaN</td>\n",
              "      <td>8.7</td>\n",
              "      <td>104.21</td>\n",
              "      <td>NaN</td>\n",
              "      <td>1.9</td>\n",
              "      <td>60.9</td>\n",
              "      <td>73.22</td>\n",
              "      <td>Rain, Partially cloudy</td>\n",
              "    </tr>\n",
              "    <tr>\n",
              "      <th>1</th>\n",
              "      <td>Gurugram, HR, India</td>\n",
              "      <td>08/02/2019</td>\n",
              "      <td>33.7</td>\n",
              "      <td>27.6</td>\n",
              "      <td>29.7</td>\n",
              "      <td>NaN</td>\n",
              "      <td>43.8</td>\n",
              "      <td>10.80</td>\n",
              "      <td>NaN</td>\n",
              "      <td>NaN</td>\n",
              "      <td>9.8</td>\n",
              "      <td>107.08</td>\n",
              "      <td>23.0</td>\n",
              "      <td>1.6</td>\n",
              "      <td>55.5</td>\n",
              "      <td>82.13</td>\n",
              "      <td>Rain, Partially cloudy</td>\n",
              "    </tr>\n",
              "    <tr>\n",
              "      <th>2</th>\n",
              "      <td>Gurugram, HR, India</td>\n",
              "      <td>08/03/2019</td>\n",
              "      <td>31.4</td>\n",
              "      <td>27.4</td>\n",
              "      <td>28.7</td>\n",
              "      <td>NaN</td>\n",
              "      <td>42.5</td>\n",
              "      <td>13.40</td>\n",
              "      <td>NaN</td>\n",
              "      <td>NaN</td>\n",
              "      <td>9.8</td>\n",
              "      <td>97.00</td>\n",
              "      <td>NaN</td>\n",
              "      <td>1.5</td>\n",
              "      <td>69.9</td>\n",
              "      <td>88.14</td>\n",
              "      <td>Rain, Partially cloudy</td>\n",
              "    </tr>\n",
              "    <tr>\n",
              "      <th>3</th>\n",
              "      <td>Gurugram, HR, India</td>\n",
              "      <td>08/04/2019</td>\n",
              "      <td>35.4</td>\n",
              "      <td>27.6</td>\n",
              "      <td>29.9</td>\n",
              "      <td>NaN</td>\n",
              "      <td>47.8</td>\n",
              "      <td>16.61</td>\n",
              "      <td>NaN</td>\n",
              "      <td>NaN</td>\n",
              "      <td>6.1</td>\n",
              "      <td>80.08</td>\n",
              "      <td>17.2</td>\n",
              "      <td>1.4</td>\n",
              "      <td>60.7</td>\n",
              "      <td>86.44</td>\n",
              "      <td>Rain, Partially cloudy</td>\n",
              "    </tr>\n",
              "    <tr>\n",
              "      <th>4</th>\n",
              "      <td>Gurugram, HR, India</td>\n",
              "      <td>08/05/2019</td>\n",
              "      <td>35.0</td>\n",
              "      <td>27.7</td>\n",
              "      <td>30.7</td>\n",
              "      <td>NaN</td>\n",
              "      <td>46.7</td>\n",
              "      <td>0.87</td>\n",
              "      <td>NaN</td>\n",
              "      <td>NaN</td>\n",
              "      <td>6.9</td>\n",
              "      <td>134.67</td>\n",
              "      <td>17.2</td>\n",
              "      <td>1.3</td>\n",
              "      <td>56.6</td>\n",
              "      <td>83.24</td>\n",
              "      <td>Rain, Partially cloudy</td>\n",
              "    </tr>\n",
              "  </tbody>\n",
              "</table>\n",
              "</div>"
            ],
            "text/plain": [
              "                  Name   Date time  ...  Relative Humidity              Conditions\n",
              "0  Gurugram, HR, India  08/01/2019  ...              73.22  Rain, Partially cloudy\n",
              "1  Gurugram, HR, India  08/02/2019  ...              82.13  Rain, Partially cloudy\n",
              "2  Gurugram, HR, India  08/03/2019  ...              88.14  Rain, Partially cloudy\n",
              "3  Gurugram, HR, India  08/04/2019  ...              86.44  Rain, Partially cloudy\n",
              "4  Gurugram, HR, India  08/05/2019  ...              83.24  Rain, Partially cloudy\n",
              "\n",
              "[5 rows x 17 columns]"
            ]
          },
          "metadata": {},
          "execution_count": 874
        }
      ]
    },
    {
      "cell_type": "code",
      "metadata": {
        "colab": {
          "base_uri": "https://localhost:8080/"
        },
        "id": "-C8e4Bopxk2E",
        "outputId": "04cfd824-3b24-4ecb-8474-8d77bb86084e"
      },
      "source": [
        "# A primary check\n",
        "temperature_df.info()"
      ],
      "execution_count": 875,
      "outputs": [
        {
          "output_type": "stream",
          "name": "stdout",
          "text": [
            "<class 'pandas.core.frame.DataFrame'>\n",
            "RangeIndex: 61 entries, 0 to 60\n",
            "Data columns (total 17 columns):\n",
            " #   Column               Non-Null Count  Dtype  \n",
            "---  ------               --------------  -----  \n",
            " 0   Name                 61 non-null     object \n",
            " 1   Date time            61 non-null     object \n",
            " 2   Maximum Temperature  61 non-null     float64\n",
            " 3   Minimum Temperature  61 non-null     float64\n",
            " 4   Temperature          61 non-null     float64\n",
            " 5   Wind Chill           0 non-null      float64\n",
            " 6   Heat Index           61 non-null     float64\n",
            " 7   Precipitation        61 non-null     float64\n",
            " 8   Snow                 0 non-null      float64\n",
            " 9   Snow Depth           0 non-null      float64\n",
            " 10  Wind Speed           61 non-null     float64\n",
            " 11  Wind Direction       61 non-null     float64\n",
            " 12  Wind Gust            17 non-null     float64\n",
            " 13  Visibility           61 non-null     float64\n",
            " 14  Cloud Cover          61 non-null     float64\n",
            " 15  Relative Humidity    61 non-null     float64\n",
            " 16  Conditions           61 non-null     object \n",
            "dtypes: float64(14), object(3)\n",
            "memory usage: 8.2+ KB\n"
          ]
        }
      ]
    },
    {
      "cell_type": "code",
      "metadata": {
        "id": "MdM3LVZmx7GI"
      },
      "source": [
        "# Drop all the columns having null values and unnecessary columns\n",
        "temperature_df.drop(['Name','Wind Chill','Snow','Snow Depth','Wind Gust','Conditions','Maximum Temperature','Minimum Temperature'],axis=1,inplace=True)"
      ],
      "execution_count": 876,
      "outputs": []
    },
    {
      "cell_type": "code",
      "metadata": {
        "id": "_DfeIxflySFY"
      },
      "source": [
        "# Convert date time column into type datetime as dateTime column\n",
        "temperature_df['dateTime'] = pd.to_datetime(temperature_df['Date time'])"
      ],
      "execution_count": 877,
      "outputs": []
    },
    {
      "cell_type": "code",
      "metadata": {
        "id": "XBcLwoHvyR7n"
      },
      "source": [
        "# Drop Date time column\n",
        "temperature_df.drop('Date time',axis=1,inplace=True)"
      ],
      "execution_count": 878,
      "outputs": []
    },
    {
      "cell_type": "code",
      "metadata": {
        "id": "MrO9IJqVyRtF"
      },
      "source": [
        "# Create day and month columns\n",
        "temperature_df['month'] = temperature_df['dateTime'].apply(month)\n",
        "temperature_df['day'] = temperature_df['dateTime'].apply(day)\n"
      ],
      "execution_count": 879,
      "outputs": []
    },
    {
      "cell_type": "code",
      "metadata": {
        "id": "pwqxv4Fg1gzA"
      },
      "source": [
        "temperature_df.drop('dateTime',axis=1,inplace=True)"
      ],
      "execution_count": 880,
      "outputs": []
    },
    {
      "cell_type": "code",
      "metadata": {
        "colab": {
          "base_uri": "https://localhost:8080/",
          "height": 203
        },
        "id": "WsR-TYyA0iT_",
        "outputId": "b2e6ebb5-7360-4bbe-e89f-81a041794f57"
      },
      "source": [
        "temperature_df.head()"
      ],
      "execution_count": 881,
      "outputs": [
        {
          "output_type": "execute_result",
          "data": {
            "text/html": [
              "<div>\n",
              "<style scoped>\n",
              "    .dataframe tbody tr th:only-of-type {\n",
              "        vertical-align: middle;\n",
              "    }\n",
              "\n",
              "    .dataframe tbody tr th {\n",
              "        vertical-align: top;\n",
              "    }\n",
              "\n",
              "    .dataframe thead th {\n",
              "        text-align: right;\n",
              "    }\n",
              "</style>\n",
              "<table border=\"1\" class=\"dataframe\">\n",
              "  <thead>\n",
              "    <tr style=\"text-align: right;\">\n",
              "      <th></th>\n",
              "      <th>Temperature</th>\n",
              "      <th>Heat Index</th>\n",
              "      <th>Precipitation</th>\n",
              "      <th>Wind Speed</th>\n",
              "      <th>Wind Direction</th>\n",
              "      <th>Visibility</th>\n",
              "      <th>Cloud Cover</th>\n",
              "      <th>Relative Humidity</th>\n",
              "      <th>month</th>\n",
              "      <th>day</th>\n",
              "    </tr>\n",
              "  </thead>\n",
              "  <tbody>\n",
              "    <tr>\n",
              "      <th>0</th>\n",
              "      <td>31.6</td>\n",
              "      <td>45.3</td>\n",
              "      <td>0.20</td>\n",
              "      <td>8.7</td>\n",
              "      <td>104.21</td>\n",
              "      <td>1.9</td>\n",
              "      <td>60.9</td>\n",
              "      <td>73.22</td>\n",
              "      <td>8</td>\n",
              "      <td>1</td>\n",
              "    </tr>\n",
              "    <tr>\n",
              "      <th>1</th>\n",
              "      <td>29.7</td>\n",
              "      <td>43.8</td>\n",
              "      <td>10.80</td>\n",
              "      <td>9.8</td>\n",
              "      <td>107.08</td>\n",
              "      <td>1.6</td>\n",
              "      <td>55.5</td>\n",
              "      <td>82.13</td>\n",
              "      <td>8</td>\n",
              "      <td>2</td>\n",
              "    </tr>\n",
              "    <tr>\n",
              "      <th>2</th>\n",
              "      <td>28.7</td>\n",
              "      <td>42.5</td>\n",
              "      <td>13.40</td>\n",
              "      <td>9.8</td>\n",
              "      <td>97.00</td>\n",
              "      <td>1.5</td>\n",
              "      <td>69.9</td>\n",
              "      <td>88.14</td>\n",
              "      <td>8</td>\n",
              "      <td>3</td>\n",
              "    </tr>\n",
              "    <tr>\n",
              "      <th>3</th>\n",
              "      <td>29.9</td>\n",
              "      <td>47.8</td>\n",
              "      <td>16.61</td>\n",
              "      <td>6.1</td>\n",
              "      <td>80.08</td>\n",
              "      <td>1.4</td>\n",
              "      <td>60.7</td>\n",
              "      <td>86.44</td>\n",
              "      <td>8</td>\n",
              "      <td>4</td>\n",
              "    </tr>\n",
              "    <tr>\n",
              "      <th>4</th>\n",
              "      <td>30.7</td>\n",
              "      <td>46.7</td>\n",
              "      <td>0.87</td>\n",
              "      <td>6.9</td>\n",
              "      <td>134.67</td>\n",
              "      <td>1.3</td>\n",
              "      <td>56.6</td>\n",
              "      <td>83.24</td>\n",
              "      <td>8</td>\n",
              "      <td>5</td>\n",
              "    </tr>\n",
              "  </tbody>\n",
              "</table>\n",
              "</div>"
            ],
            "text/plain": [
              "   Temperature  Heat Index  Precipitation  ...  Relative Humidity  month  day\n",
              "0         31.6        45.3           0.20  ...              73.22      8    1\n",
              "1         29.7        43.8          10.80  ...              82.13      8    2\n",
              "2         28.7        42.5          13.40  ...              88.14      8    3\n",
              "3         29.9        47.8          16.61  ...              86.44      8    4\n",
              "4         30.7        46.7           0.87  ...              83.24      8    5\n",
              "\n",
              "[5 rows x 10 columns]"
            ]
          },
          "metadata": {},
          "execution_count": 881
        }
      ]
    },
    {
      "cell_type": "markdown",
      "metadata": {
        "id": "v2Ddb1gC_BUS"
      },
      "source": [
        "###**Create a new summarized dataframe for daily consumption**"
      ]
    },
    {
      "cell_type": "code",
      "metadata": {
        "id": "h5OwXTG8xRrO"
      },
      "source": [
        "# Create a daily consumption dataframe\n",
        "daily_df = new_df.groupby(['month','day'],as_index=False).agg({'AC 1':'sum','AC 2':'sum', 'AC 3':'sum', 'AC 4':'sum', 'AC 5':'sum', 'AC 6':'sum', 'AC 7':'sum'\n",
        "                                  ,'AC 8':'sum', 'AC 9':'sum', 'AC 10':'sum', 'AC 11':'sum', 'AC 12':'sum', 'AC 13':'sum'\n",
        "                                   , 'AC 14':'sum', 'AC 15':'sum', 'AC 16':'sum', 'AC 17':'sum', 'AC 18':'sum'})"
      ],
      "execution_count": 882,
      "outputs": []
    },
    {
      "cell_type": "code",
      "metadata": {
        "id": "DRUkaf7T9G45"
      },
      "source": [
        "# Create a new column for total hourly consumption\n",
        "daily_df['total_daily_consumption'] = daily_df.sum(axis=1)\n",
        "daily_df['average_daily_consumption_perAC'] = daily_df.mean(axis=1)\n",
        "\n",
        "# Create a new column for total units of electricity consumed per hour\n",
        "# 1 unit = 1000W/hour or 1KW/h\n",
        "daily_df['total_units_consumed_daily'] = round(daily_df['total_daily_consumption'] /1000,3)\n",
        "daily_df['average_units_consumed_daily_perAC'] = round(daily_df['average_daily_consumption_perAC'] /1000,3)"
      ],
      "execution_count": 883,
      "outputs": []
    },
    {
      "cell_type": "code",
      "metadata": {
        "colab": {
          "base_uri": "https://localhost:8080/",
          "height": 223
        },
        "id": "3fXGmwmJ8-QS",
        "outputId": "7d9dca1b-f872-4464-bb17-27d4e6c5f263"
      },
      "source": [
        "daily_df.head()"
      ],
      "execution_count": 884,
      "outputs": [
        {
          "output_type": "execute_result",
          "data": {
            "text/html": [
              "<div>\n",
              "<style scoped>\n",
              "    .dataframe tbody tr th:only-of-type {\n",
              "        vertical-align: middle;\n",
              "    }\n",
              "\n",
              "    .dataframe tbody tr th {\n",
              "        vertical-align: top;\n",
              "    }\n",
              "\n",
              "    .dataframe thead th {\n",
              "        text-align: right;\n",
              "    }\n",
              "</style>\n",
              "<table border=\"1\" class=\"dataframe\">\n",
              "  <thead>\n",
              "    <tr style=\"text-align: right;\">\n",
              "      <th></th>\n",
              "      <th>month</th>\n",
              "      <th>day</th>\n",
              "      <th>AC 1</th>\n",
              "      <th>AC 2</th>\n",
              "      <th>AC 3</th>\n",
              "      <th>AC 4</th>\n",
              "      <th>AC 5</th>\n",
              "      <th>AC 6</th>\n",
              "      <th>AC 7</th>\n",
              "      <th>AC 8</th>\n",
              "      <th>AC 9</th>\n",
              "      <th>AC 10</th>\n",
              "      <th>AC 11</th>\n",
              "      <th>AC 12</th>\n",
              "      <th>AC 13</th>\n",
              "      <th>AC 14</th>\n",
              "      <th>AC 15</th>\n",
              "      <th>AC 16</th>\n",
              "      <th>AC 17</th>\n",
              "      <th>AC 18</th>\n",
              "      <th>total_daily_consumption</th>\n",
              "      <th>average_daily_consumption_perAC</th>\n",
              "      <th>total_units_consumed_daily</th>\n",
              "      <th>average_units_consumed_daily_perAC</th>\n",
              "    </tr>\n",
              "  </thead>\n",
              "  <tbody>\n",
              "    <tr>\n",
              "      <th>0</th>\n",
              "      <td>8</td>\n",
              "      <td>1</td>\n",
              "      <td>3104.309104</td>\n",
              "      <td>5178.653314</td>\n",
              "      <td>1630.817266</td>\n",
              "      <td>2374.203867</td>\n",
              "      <td>1037.301305</td>\n",
              "      <td>2015.883705</td>\n",
              "      <td>1876.576564</td>\n",
              "      <td>2340.438797</td>\n",
              "      <td>1620.642612</td>\n",
              "      <td>1268.278059</td>\n",
              "      <td>1291.303646</td>\n",
              "      <td>1828.139131</td>\n",
              "      <td>3391.582242</td>\n",
              "      <td>2200.493267</td>\n",
              "      <td>3094.283539</td>\n",
              "      <td>2603.788367</td>\n",
              "      <td>3337.813885</td>\n",
              "      <td>5443.447364</td>\n",
              "      <td>45646.956034</td>\n",
              "      <td>4347.329146</td>\n",
              "      <td>45.647</td>\n",
              "      <td>4.347</td>\n",
              "    </tr>\n",
              "    <tr>\n",
              "      <th>1</th>\n",
              "      <td>8</td>\n",
              "      <td>2</td>\n",
              "      <td>2858.419734</td>\n",
              "      <td>3593.581977</td>\n",
              "      <td>2089.322640</td>\n",
              "      <td>2271.603933</td>\n",
              "      <td>1178.239035</td>\n",
              "      <td>1685.658280</td>\n",
              "      <td>1678.985550</td>\n",
              "      <td>1068.449478</td>\n",
              "      <td>1895.803388</td>\n",
              "      <td>1267.474739</td>\n",
              "      <td>1441.221452</td>\n",
              "      <td>2011.115215</td>\n",
              "      <td>3687.542111</td>\n",
              "      <td>1693.435960</td>\n",
              "      <td>3199.127000</td>\n",
              "      <td>2471.211457</td>\n",
              "      <td>3193.061892</td>\n",
              "      <td>5596.797988</td>\n",
              "      <td>42891.051829</td>\n",
              "      <td>4084.862079</td>\n",
              "      <td>42.891</td>\n",
              "      <td>4.085</td>\n",
              "    </tr>\n",
              "    <tr>\n",
              "      <th>2</th>\n",
              "      <td>8</td>\n",
              "      <td>3</td>\n",
              "      <td>2342.643465</td>\n",
              "      <td>3080.604766</td>\n",
              "      <td>2109.504047</td>\n",
              "      <td>1368.851146</td>\n",
              "      <td>986.814506</td>\n",
              "      <td>1839.578327</td>\n",
              "      <td>2291.289651</td>\n",
              "      <td>924.835843</td>\n",
              "      <td>1980.989410</td>\n",
              "      <td>1052.104862</td>\n",
              "      <td>1565.555856</td>\n",
              "      <td>2213.709985</td>\n",
              "      <td>3457.940043</td>\n",
              "      <td>1340.961746</td>\n",
              "      <td>3214.434392</td>\n",
              "      <td>2109.495541</td>\n",
              "      <td>3152.205214</td>\n",
              "      <td>5668.015362</td>\n",
              "      <td>40710.534163</td>\n",
              "      <td>3877.193730</td>\n",
              "      <td>40.711</td>\n",
              "      <td>3.877</td>\n",
              "    </tr>\n",
              "    <tr>\n",
              "      <th>3</th>\n",
              "      <td>8</td>\n",
              "      <td>4</td>\n",
              "      <td>2950.357777</td>\n",
              "      <td>3138.325802</td>\n",
              "      <td>1849.015820</td>\n",
              "      <td>1113.272698</td>\n",
              "      <td>1099.236903</td>\n",
              "      <td>2546.160319</td>\n",
              "      <td>2014.250945</td>\n",
              "      <td>1116.094952</td>\n",
              "      <td>1790.919247</td>\n",
              "      <td>1209.314592</td>\n",
              "      <td>1311.968897</td>\n",
              "      <td>2169.716325</td>\n",
              "      <td>3532.554241</td>\n",
              "      <td>1585.776477</td>\n",
              "      <td>3307.656537</td>\n",
              "      <td>2055.193141</td>\n",
              "      <td>3216.802219</td>\n",
              "      <td>5907.917356</td>\n",
              "      <td>41926.534247</td>\n",
              "      <td>3993.003262</td>\n",
              "      <td>41.927</td>\n",
              "      <td>3.993</td>\n",
              "    </tr>\n",
              "    <tr>\n",
              "      <th>4</th>\n",
              "      <td>8</td>\n",
              "      <td>5</td>\n",
              "      <td>2541.984791</td>\n",
              "      <td>2883.849849</td>\n",
              "      <td>1285.868449</td>\n",
              "      <td>647.581450</td>\n",
              "      <td>1202.556730</td>\n",
              "      <td>2731.833220</td>\n",
              "      <td>1787.944404</td>\n",
              "      <td>1182.123289</td>\n",
              "      <td>1869.045967</td>\n",
              "      <td>1020.467613</td>\n",
              "      <td>2410.518340</td>\n",
              "      <td>2237.245534</td>\n",
              "      <td>3003.746657</td>\n",
              "      <td>2011.984857</td>\n",
              "      <td>3593.211800</td>\n",
              "      <td>2487.589814</td>\n",
              "      <td>2740.861509</td>\n",
              "      <td>4394.006700</td>\n",
              "      <td>40045.420973</td>\n",
              "      <td>3813.849617</td>\n",
              "      <td>40.045</td>\n",
              "      <td>3.814</td>\n",
              "    </tr>\n",
              "  </tbody>\n",
              "</table>\n",
              "</div>"
            ],
            "text/plain": [
              "   month  day  ...  total_units_consumed_daily  average_units_consumed_daily_perAC\n",
              "0      8    1  ...                      45.647                               4.347\n",
              "1      8    2  ...                      42.891                               4.085\n",
              "2      8    3  ...                      40.711                               3.877\n",
              "3      8    4  ...                      41.927                               3.993\n",
              "4      8    5  ...                      40.045                               3.814\n",
              "\n",
              "[5 rows x 24 columns]"
            ]
          },
          "metadata": {},
          "execution_count": 884
        }
      ]
    },
    {
      "cell_type": "code",
      "metadata": {
        "id": "pETgQ8He9vjW"
      },
      "source": [
        "# Create a summary dataframe\n",
        "daily_summary_df = daily_df[['month','day','total_units_consumed_daily','average_units_consumed_daily_perAC']]"
      ],
      "execution_count": 885,
      "outputs": []
    },
    {
      "cell_type": "code",
      "metadata": {
        "colab": {
          "base_uri": "https://localhost:8080/",
          "height": 203
        },
        "id": "IZp55V-j-yIS",
        "outputId": "4494e654-91e6-44f5-9206-1aba1047108c"
      },
      "source": [
        "daily_summary_df.head()"
      ],
      "execution_count": 886,
      "outputs": [
        {
          "output_type": "execute_result",
          "data": {
            "text/html": [
              "<div>\n",
              "<style scoped>\n",
              "    .dataframe tbody tr th:only-of-type {\n",
              "        vertical-align: middle;\n",
              "    }\n",
              "\n",
              "    .dataframe tbody tr th {\n",
              "        vertical-align: top;\n",
              "    }\n",
              "\n",
              "    .dataframe thead th {\n",
              "        text-align: right;\n",
              "    }\n",
              "</style>\n",
              "<table border=\"1\" class=\"dataframe\">\n",
              "  <thead>\n",
              "    <tr style=\"text-align: right;\">\n",
              "      <th></th>\n",
              "      <th>month</th>\n",
              "      <th>day</th>\n",
              "      <th>total_units_consumed_daily</th>\n",
              "      <th>average_units_consumed_daily_perAC</th>\n",
              "    </tr>\n",
              "  </thead>\n",
              "  <tbody>\n",
              "    <tr>\n",
              "      <th>0</th>\n",
              "      <td>8</td>\n",
              "      <td>1</td>\n",
              "      <td>45.647</td>\n",
              "      <td>4.347</td>\n",
              "    </tr>\n",
              "    <tr>\n",
              "      <th>1</th>\n",
              "      <td>8</td>\n",
              "      <td>2</td>\n",
              "      <td>42.891</td>\n",
              "      <td>4.085</td>\n",
              "    </tr>\n",
              "    <tr>\n",
              "      <th>2</th>\n",
              "      <td>8</td>\n",
              "      <td>3</td>\n",
              "      <td>40.711</td>\n",
              "      <td>3.877</td>\n",
              "    </tr>\n",
              "    <tr>\n",
              "      <th>3</th>\n",
              "      <td>8</td>\n",
              "      <td>4</td>\n",
              "      <td>41.927</td>\n",
              "      <td>3.993</td>\n",
              "    </tr>\n",
              "    <tr>\n",
              "      <th>4</th>\n",
              "      <td>8</td>\n",
              "      <td>5</td>\n",
              "      <td>40.045</td>\n",
              "      <td>3.814</td>\n",
              "    </tr>\n",
              "  </tbody>\n",
              "</table>\n",
              "</div>"
            ],
            "text/plain": [
              "   month  day  total_units_consumed_daily  average_units_consumed_daily_perAC\n",
              "0      8    1                      45.647                               4.347\n",
              "1      8    2                      42.891                               4.085\n",
              "2      8    3                      40.711                               3.877\n",
              "3      8    4                      41.927                               3.993\n",
              "4      8    5                      40.045                               3.814"
            ]
          },
          "metadata": {},
          "execution_count": 886
        }
      ]
    },
    {
      "cell_type": "code",
      "metadata": {
        "colab": {
          "base_uri": "https://localhost:8080/"
        },
        "id": "zbPNdAH5-841",
        "outputId": "42e95e88-ef70-4488-936a-a5b89163a6a9"
      },
      "source": [
        "# Check shapes of two dataframes\n",
        "daily_summary_df.shape,temperature_df.shape"
      ],
      "execution_count": 887,
      "outputs": [
        {
          "output_type": "execute_result",
          "data": {
            "text/plain": [
              "((61, 4), (61, 10))"
            ]
          },
          "metadata": {},
          "execution_count": 887
        }
      ]
    },
    {
      "cell_type": "code",
      "metadata": {
        "id": "HXVeFYmS_zIN"
      },
      "source": [
        "# Merge the two dataframes to get a final dataframe\n",
        "final_df = pd.merge(temperature_df,daily_summary_df)"
      ],
      "execution_count": 888,
      "outputs": []
    },
    {
      "cell_type": "code",
      "metadata": {
        "colab": {
          "base_uri": "https://localhost:8080/",
          "height": 220
        },
        "id": "FF93Yg61BZc2",
        "outputId": "ccf2c724-b599-469c-b2e3-b6e570ae50aa"
      },
      "source": [
        "final_df.head()"
      ],
      "execution_count": 889,
      "outputs": [
        {
          "output_type": "execute_result",
          "data": {
            "text/html": [
              "<div>\n",
              "<style scoped>\n",
              "    .dataframe tbody tr th:only-of-type {\n",
              "        vertical-align: middle;\n",
              "    }\n",
              "\n",
              "    .dataframe tbody tr th {\n",
              "        vertical-align: top;\n",
              "    }\n",
              "\n",
              "    .dataframe thead th {\n",
              "        text-align: right;\n",
              "    }\n",
              "</style>\n",
              "<table border=\"1\" class=\"dataframe\">\n",
              "  <thead>\n",
              "    <tr style=\"text-align: right;\">\n",
              "      <th></th>\n",
              "      <th>Temperature</th>\n",
              "      <th>Heat Index</th>\n",
              "      <th>Precipitation</th>\n",
              "      <th>Wind Speed</th>\n",
              "      <th>Wind Direction</th>\n",
              "      <th>Visibility</th>\n",
              "      <th>Cloud Cover</th>\n",
              "      <th>Relative Humidity</th>\n",
              "      <th>month</th>\n",
              "      <th>day</th>\n",
              "      <th>total_units_consumed_daily</th>\n",
              "      <th>average_units_consumed_daily_perAC</th>\n",
              "    </tr>\n",
              "  </thead>\n",
              "  <tbody>\n",
              "    <tr>\n",
              "      <th>0</th>\n",
              "      <td>31.6</td>\n",
              "      <td>45.3</td>\n",
              "      <td>0.20</td>\n",
              "      <td>8.7</td>\n",
              "      <td>104.21</td>\n",
              "      <td>1.9</td>\n",
              "      <td>60.9</td>\n",
              "      <td>73.22</td>\n",
              "      <td>8</td>\n",
              "      <td>1</td>\n",
              "      <td>45.647</td>\n",
              "      <td>4.347</td>\n",
              "    </tr>\n",
              "    <tr>\n",
              "      <th>1</th>\n",
              "      <td>29.7</td>\n",
              "      <td>43.8</td>\n",
              "      <td>10.80</td>\n",
              "      <td>9.8</td>\n",
              "      <td>107.08</td>\n",
              "      <td>1.6</td>\n",
              "      <td>55.5</td>\n",
              "      <td>82.13</td>\n",
              "      <td>8</td>\n",
              "      <td>2</td>\n",
              "      <td>42.891</td>\n",
              "      <td>4.085</td>\n",
              "    </tr>\n",
              "    <tr>\n",
              "      <th>2</th>\n",
              "      <td>28.7</td>\n",
              "      <td>42.5</td>\n",
              "      <td>13.40</td>\n",
              "      <td>9.8</td>\n",
              "      <td>97.00</td>\n",
              "      <td>1.5</td>\n",
              "      <td>69.9</td>\n",
              "      <td>88.14</td>\n",
              "      <td>8</td>\n",
              "      <td>3</td>\n",
              "      <td>40.711</td>\n",
              "      <td>3.877</td>\n",
              "    </tr>\n",
              "    <tr>\n",
              "      <th>3</th>\n",
              "      <td>29.9</td>\n",
              "      <td>47.8</td>\n",
              "      <td>16.61</td>\n",
              "      <td>6.1</td>\n",
              "      <td>80.08</td>\n",
              "      <td>1.4</td>\n",
              "      <td>60.7</td>\n",
              "      <td>86.44</td>\n",
              "      <td>8</td>\n",
              "      <td>4</td>\n",
              "      <td>41.927</td>\n",
              "      <td>3.993</td>\n",
              "    </tr>\n",
              "    <tr>\n",
              "      <th>4</th>\n",
              "      <td>30.7</td>\n",
              "      <td>46.7</td>\n",
              "      <td>0.87</td>\n",
              "      <td>6.9</td>\n",
              "      <td>134.67</td>\n",
              "      <td>1.3</td>\n",
              "      <td>56.6</td>\n",
              "      <td>83.24</td>\n",
              "      <td>8</td>\n",
              "      <td>5</td>\n",
              "      <td>40.045</td>\n",
              "      <td>3.814</td>\n",
              "    </tr>\n",
              "  </tbody>\n",
              "</table>\n",
              "</div>"
            ],
            "text/plain": [
              "   Temperature  ...  average_units_consumed_daily_perAC\n",
              "0         31.6  ...                               4.347\n",
              "1         29.7  ...                               4.085\n",
              "2         28.7  ...                               3.877\n",
              "3         29.9  ...                               3.993\n",
              "4         30.7  ...                               3.814\n",
              "\n",
              "[5 rows x 12 columns]"
            ]
          },
          "metadata": {},
          "execution_count": 889
        }
      ]
    },
    {
      "cell_type": "code",
      "metadata": {
        "colab": {
          "base_uri": "https://localhost:8080/",
          "height": 408
        },
        "id": "tDkgKjhlB5Tm",
        "outputId": "91dc3c62-8c7f-41e2-8e78-5ac9807b852b"
      },
      "source": [
        "plt.subplot(121)\n",
        "final_df.query('month==8').Temperature.plot(kind='line')\n",
        "plt.xlabel('Day',size=13)\n",
        "plt.ylabel('Temperature',size=13)\n",
        "plt.subplot(122)\n",
        "final_df.query('month==8').total_units_consumed_daily.plot(kind='line')\n",
        "plt.xlabel('Day',size=13)\n",
        "plt.ylabel('Units',size=13)"
      ],
      "execution_count": 890,
      "outputs": [
        {
          "output_type": "execute_result",
          "data": {
            "text/plain": [
              "Text(0, 0.5, 'Units')"
            ]
          },
          "metadata": {},
          "execution_count": 890
        },
        {
          "output_type": "display_data",
          "data": {
            "image/png": "[encoded data removed]",
            "text/plain": [
              "<Figure size 720x432 with 2 Axes>"
            ]
          },
          "metadata": {
            "needs_background": "light"
          }
        }
      ]
    },
    {
      "cell_type": "markdown",
      "metadata": {
        "id": "FnbkZijAF_DW"
      },
      "source": [
        "###Let's transform the data for a better understanding of how our daily power consumption moves with the temperature outside"
      ]
    },
    {
      "cell_type": "code",
      "metadata": {
        "id": "3T1GSduZCu9S"
      },
      "source": [
        "# Import Scaler to Normalize the data\n",
        "from sklearn.preprocessing import MinMaxScaler"
      ],
      "execution_count": 891,
      "outputs": []
    },
    {
      "cell_type": "code",
      "metadata": {
        "id": "kAuacUvLEli4"
      },
      "source": [
        "# Instantiate the scaler object\n",
        "scaler = MinMaxScaler()"
      ],
      "execution_count": 892,
      "outputs": []
    },
    {
      "cell_type": "code",
      "metadata": {
        "id": "1NDxM8P3En6H"
      },
      "source": [
        "# Normalize the data\n",
        "matrix = scaler.fit_transform(final_df)"
      ],
      "execution_count": 893,
      "outputs": []
    },
    {
      "cell_type": "code",
      "metadata": {
        "id": "1MlCDgAEE08l"
      },
      "source": [
        "# Convert back into a dataframe\n",
        "transformed_df = pd.DataFrame(matrix,columns= final_df.columns)"
      ],
      "execution_count": 894,
      "outputs": []
    },
    {
      "cell_type": "code",
      "metadata": {
        "colab": {
          "base_uri": "https://localhost:8080/"
        },
        "id": "bp_qVFT4FY3N",
        "outputId": "927f2d44-a5d1-48a7-cbf0-998582f160ea"
      },
      "source": [
        "# Check transformed values of month\n",
        "transformed_df['month'].unique()"
      ],
      "execution_count": 895,
      "outputs": [
        {
          "output_type": "execute_result",
          "data": {
            "text/plain": [
              "array([0., 1.])"
            ]
          },
          "metadata": {},
          "execution_count": 895
        }
      ]
    },
    {
      "cell_type": "code",
      "metadata": {
        "colab": {
          "base_uri": "https://localhost:8080/",
          "height": 428
        },
        "id": "__rwjxRCE7ZN",
        "outputId": "1d499856-93cf-4421-f26d-0b5e8bfcb980"
      },
      "source": [
        "# Plot Temperature and power consumed together for the month of August\n",
        "plt.figure(figsize=(16,7))\n",
        "transformed_df.query('month==0').Temperature.plot(kind='line',label='Temperature')\n",
        "transformed_df.query('month==0').total_units_consumed_daily.plot(kind='line',label='Total Power Consumed')\n",
        "plt.legend()\n",
        "plt.show()"
      ],
      "execution_count": 896,
      "outputs": [
        {
          "output_type": "display_data",
          "data": {
            "image/png": "[encoded data removed]",
            "text/plain": [
              "<Figure size 1152x504 with 1 Axes>"
            ]
          },
          "metadata": {
            "needs_background": "light"
          }
        }
      ]
    },
    {
      "cell_type": "code",
      "metadata": {
        "colab": {
          "base_uri": "https://localhost:8080/",
          "height": 431
        },
        "id": "cydjuOQUJRpd",
        "outputId": "d9f3088a-599d-4d89-dc25-e4ee4a23f6ba"
      },
      "source": [
        "# Plot Heat Index and average power consumed together (August)\n",
        "plt.figure(figsize=(16,7))\n",
        "transformed_df.query('month==0')['Heat Index'].plot(kind='line',label='Heat')\n",
        "transformed_df.query('month==0').average_units_consumed_daily_perAC.plot(kind='line',label='Average Units Consumed')\n",
        "plt.legend()\n",
        "plt.show()"
      ],
      "execution_count": 897,
      "outputs": [
        {
          "output_type": "display_data",
          "data": {
            "image/png": "[encoded data removed]",
            "text/plain": [
              "<Figure size 1152x504 with 1 Axes>"
            ]
          },
          "metadata": {
            "needs_background": "light"
          }
        }
      ]
    },
    {
      "cell_type": "code",
      "metadata": {
        "colab": {
          "base_uri": "https://localhost:8080/",
          "height": 446
        },
        "id": "ECRoXk7NKQcf",
        "outputId": "c2ccddd4-a5f6-4569-812d-764b56f3cbd4"
      },
      "source": [
        "# Plot Temperature and power consumed together for the month of September\n",
        "plt.figure(figsize=(16,7))\n",
        "transformed_df.query('month==1').Temperature.plot(kind='line',label='Temperature')\n",
        "transformed_df.query('month==1').total_units_consumed_daily.plot(kind='line',label='Total Power Consumed')\n",
        "plt.title('Outside temperature plotted with Total Power Consumption',size=15)\n",
        "plt.legend()\n",
        "plt.show()"
      ],
      "execution_count": 898,
      "outputs": [
        {
          "output_type": "display_data",
          "data": {
            "image/png": "[encoded data removed]",
            "text/plain": [
              "<Figure size 1152x504 with 1 Axes>"
            ]
          },
          "metadata": {
            "needs_background": "light"
          }
        }
      ]
    },
    {
      "cell_type": "code",
      "metadata": {
        "colab": {
          "base_uri": "https://localhost:8080/",
          "height": 446
        },
        "id": "7F0KUUshKeUg",
        "outputId": "10c755b3-d9aa-491e-c120-c59c1423639b"
      },
      "source": [
        "# Plot Heat Index and average power consumed together (August)\n",
        "plt.figure(figsize=(16,7))\n",
        "transformed_df.query('month==1')['Heat Index'].plot(kind='line',label='Heat')\n",
        "transformed_df.query('month==1').average_units_consumed_daily_perAC.plot(kind='line',label='Average Units Consumed')\n",
        "plt.title('Heat Index plotted with Average Power Consumption',size=15)\n",
        "plt.legend()\n",
        "plt.show()"
      ],
      "execution_count": 899,
      "outputs": [
        {
          "output_type": "display_data",
          "data": {
            "image/png": "[encoded data removed]",
            "text/plain": [
              "<Figure size 1152x504 with 1 Axes>"
            ]
          },
          "metadata": {
            "needs_background": "light"
          }
        }
      ]
    },
    {
      "cell_type": "markdown",
      "metadata": {
        "id": "WR3dy4Y3Iwba"
      },
      "source": [
        "##Observations\n",
        "\n",
        "* <b>We can clearly see that the Total power consumption by ACs in the gurgaon hotel is moving together with the outside temperature!\n",
        "* After mid-september temperature started to fall and the usage of ACs also fell correspondingly</b>"
      ]
    },
    {
      "cell_type": "code",
      "metadata": {
        "colab": {
          "base_uri": "https://localhost:8080/",
          "height": 220
        },
        "id": "GtNCqhqWJ436",
        "outputId": "57ea4dc9-c3b9-4243-b3a3-3913a62bfbce"
      },
      "source": [
        "final_df.head()"
      ],
      "execution_count": 900,
      "outputs": [
        {
          "output_type": "execute_result",
          "data": {
            "text/html": [
              "<div>\n",
              "<style scoped>\n",
              "    .dataframe tbody tr th:only-of-type {\n",
              "        vertical-align: middle;\n",
              "    }\n",
              "\n",
              "    .dataframe tbody tr th {\n",
              "        vertical-align: top;\n",
              "    }\n",
              "\n",
              "    .dataframe thead th {\n",
              "        text-align: right;\n",
              "    }\n",
              "</style>\n",
              "<table border=\"1\" class=\"dataframe\">\n",
              "  <thead>\n",
              "    <tr style=\"text-align: right;\">\n",
              "      <th></th>\n",
              "      <th>Temperature</th>\n",
              "      <th>Heat Index</th>\n",
              "      <th>Precipitation</th>\n",
              "      <th>Wind Speed</th>\n",
              "      <th>Wind Direction</th>\n",
              "      <th>Visibility</th>\n",
              "      <th>Cloud Cover</th>\n",
              "      <th>Relative Humidity</th>\n",
              "      <th>month</th>\n",
              "      <th>day</th>\n",
              "      <th>total_units_consumed_daily</th>\n",
              "      <th>average_units_consumed_daily_perAC</th>\n",
              "    </tr>\n",
              "  </thead>\n",
              "  <tbody>\n",
              "    <tr>\n",
              "      <th>0</th>\n",
              "      <td>31.6</td>\n",
              "      <td>45.3</td>\n",
              "      <td>0.20</td>\n",
              "      <td>8.7</td>\n",
              "      <td>104.21</td>\n",
              "      <td>1.9</td>\n",
              "      <td>60.9</td>\n",
              "      <td>73.22</td>\n",
              "      <td>8</td>\n",
              "      <td>1</td>\n",
              "      <td>45.647</td>\n",
              "      <td>4.347</td>\n",
              "    </tr>\n",
              "    <tr>\n",
              "      <th>1</th>\n",
              "      <td>29.7</td>\n",
              "      <td>43.8</td>\n",
              "      <td>10.80</td>\n",
              "      <td>9.8</td>\n",
              "      <td>107.08</td>\n",
              "      <td>1.6</td>\n",
              "      <td>55.5</td>\n",
              "      <td>82.13</td>\n",
              "      <td>8</td>\n",
              "      <td>2</td>\n",
              "      <td>42.891</td>\n",
              "      <td>4.085</td>\n",
              "    </tr>\n",
              "    <tr>\n",
              "      <th>2</th>\n",
              "      <td>28.7</td>\n",
              "      <td>42.5</td>\n",
              "      <td>13.40</td>\n",
              "      <td>9.8</td>\n",
              "      <td>97.00</td>\n",
              "      <td>1.5</td>\n",
              "      <td>69.9</td>\n",
              "      <td>88.14</td>\n",
              "      <td>8</td>\n",
              "      <td>3</td>\n",
              "      <td>40.711</td>\n",
              "      <td>3.877</td>\n",
              "    </tr>\n",
              "    <tr>\n",
              "      <th>3</th>\n",
              "      <td>29.9</td>\n",
              "      <td>47.8</td>\n",
              "      <td>16.61</td>\n",
              "      <td>6.1</td>\n",
              "      <td>80.08</td>\n",
              "      <td>1.4</td>\n",
              "      <td>60.7</td>\n",
              "      <td>86.44</td>\n",
              "      <td>8</td>\n",
              "      <td>4</td>\n",
              "      <td>41.927</td>\n",
              "      <td>3.993</td>\n",
              "    </tr>\n",
              "    <tr>\n",
              "      <th>4</th>\n",
              "      <td>30.7</td>\n",
              "      <td>46.7</td>\n",
              "      <td>0.87</td>\n",
              "      <td>6.9</td>\n",
              "      <td>134.67</td>\n",
              "      <td>1.3</td>\n",
              "      <td>56.6</td>\n",
              "      <td>83.24</td>\n",
              "      <td>8</td>\n",
              "      <td>5</td>\n",
              "      <td>40.045</td>\n",
              "      <td>3.814</td>\n",
              "    </tr>\n",
              "  </tbody>\n",
              "</table>\n",
              "</div>"
            ],
            "text/plain": [
              "   Temperature  ...  average_units_consumed_daily_perAC\n",
              "0         31.6  ...                               4.347\n",
              "1         29.7  ...                               4.085\n",
              "2         28.7  ...                               3.877\n",
              "3         29.9  ...                               3.993\n",
              "4         30.7  ...                               3.814\n",
              "\n",
              "[5 rows x 12 columns]"
            ]
          },
          "metadata": {},
          "execution_count": 900
        }
      ]
    },
    {
      "cell_type": "code",
      "metadata": {
        "colab": {
          "base_uri": "https://localhost:8080/",
          "height": 445
        },
        "id": "3oi92hYjKMiD",
        "outputId": "7acf3cb2-67f6-4d29-bca9-f49cded02918"
      },
      "source": [
        "# Plot temperatures for the two months\n",
        "plt.figure(figsize=(16,7))\n",
        "plt.plot(range(30),final_df.query('month==9').Temperature,label='september')\n",
        "plt.plot(range(31),final_df.query('month==8').Temperature,label='august')\n",
        "plt.xlabel('Days',size=13)\n",
        "plt.ylabel('Temperature in degrees',size=13)\n",
        "plt.legend()\n",
        "plt.show()\n"
      ],
      "execution_count": 901,
      "outputs": [
        {
          "output_type": "display_data",
          "data": {
            "image/png": "[encoded data removed]",
            "text/plain": [
              "<Figure size 1152x504 with 1 Axes>"
            ]
          },
          "metadata": {
            "needs_background": "light"
          }
        }
      ]
    },
    {
      "cell_type": "markdown",
      "metadata": {
        "id": "W1QthY4iNv4r"
      },
      "source": [
        "* <b>Earlier we had seen less overall power consumption in the month of september, that should be quite self-explanatory from this graph\n",
        "* Temperature started to drop after mid-september hence usage of ACs in the Hotel rooms decreased</b>"
      ]
    },
    {
      "cell_type": "markdown",
      "metadata": {
        "id": "7JQvxjQmQSoX"
      },
      "source": [
        "##Prepare the dataset for modelling"
      ]
    },
    {
      "cell_type": "code",
      "metadata": {
        "colab": {
          "base_uri": "https://localhost:8080/",
          "height": 220
        },
        "id": "4Vr9xin5Lqt6",
        "outputId": "83e60935-fbff-451c-ea38-f5e87f499395"
      },
      "source": [
        "transformed_df.head()"
      ],
      "execution_count": 902,
      "outputs": [
        {
          "output_type": "execute_result",
          "data": {
            "text/html": [
              "<div>\n",
              "<style scoped>\n",
              "    .dataframe tbody tr th:only-of-type {\n",
              "        vertical-align: middle;\n",
              "    }\n",
              "\n",
              "    .dataframe tbody tr th {\n",
              "        vertical-align: top;\n",
              "    }\n",
              "\n",
              "    .dataframe thead th {\n",
              "        text-align: right;\n",
              "    }\n",
              "</style>\n",
              "<table border=\"1\" class=\"dataframe\">\n",
              "  <thead>\n",
              "    <tr style=\"text-align: right;\">\n",
              "      <th></th>\n",
              "      <th>Temperature</th>\n",
              "      <th>Heat Index</th>\n",
              "      <th>Precipitation</th>\n",
              "      <th>Wind Speed</th>\n",
              "      <th>Wind Direction</th>\n",
              "      <th>Visibility</th>\n",
              "      <th>Cloud Cover</th>\n",
              "      <th>Relative Humidity</th>\n",
              "      <th>month</th>\n",
              "      <th>day</th>\n",
              "      <th>total_units_consumed_daily</th>\n",
              "      <th>average_units_consumed_daily_perAC</th>\n",
              "    </tr>\n",
              "  </thead>\n",
              "  <tbody>\n",
              "    <tr>\n",
              "      <th>0</th>\n",
              "      <td>0.797101</td>\n",
              "      <td>0.773585</td>\n",
              "      <td>0.004255</td>\n",
              "      <td>0.337209</td>\n",
              "      <td>0.181454</td>\n",
              "      <td>0.500000</td>\n",
              "      <td>0.591837</td>\n",
              "      <td>0.317697</td>\n",
              "      <td>0.0</td>\n",
              "      <td>0.000000</td>\n",
              "      <td>0.694562</td>\n",
              "      <td>0.694387</td>\n",
              "    </tr>\n",
              "    <tr>\n",
              "      <th>1</th>\n",
              "      <td>0.521739</td>\n",
              "      <td>0.679245</td>\n",
              "      <td>0.229787</td>\n",
              "      <td>0.465116</td>\n",
              "      <td>0.196405</td>\n",
              "      <td>0.250000</td>\n",
              "      <td>0.469388</td>\n",
              "      <td>0.605953</td>\n",
              "      <td>0.0</td>\n",
              "      <td>0.033333</td>\n",
              "      <td>0.585409</td>\n",
              "      <td>0.585447</td>\n",
              "    </tr>\n",
              "    <tr>\n",
              "      <th>2</th>\n",
              "      <td>0.376812</td>\n",
              "      <td>0.597484</td>\n",
              "      <td>0.285106</td>\n",
              "      <td>0.465116</td>\n",
              "      <td>0.143892</td>\n",
              "      <td>0.166667</td>\n",
              "      <td>0.795918</td>\n",
              "      <td>0.800388</td>\n",
              "      <td>0.0</td>\n",
              "      <td>0.066667</td>\n",
              "      <td>0.499069</td>\n",
              "      <td>0.498960</td>\n",
              "    </tr>\n",
              "    <tr>\n",
              "      <th>3</th>\n",
              "      <td>0.550725</td>\n",
              "      <td>0.930818</td>\n",
              "      <td>0.353404</td>\n",
              "      <td>0.034884</td>\n",
              "      <td>0.055744</td>\n",
              "      <td>0.083333</td>\n",
              "      <td>0.587302</td>\n",
              "      <td>0.745390</td>\n",
              "      <td>0.0</td>\n",
              "      <td>0.100000</td>\n",
              "      <td>0.547230</td>\n",
              "      <td>0.547193</td>\n",
              "    </tr>\n",
              "    <tr>\n",
              "      <th>4</th>\n",
              "      <td>0.666667</td>\n",
              "      <td>0.861635</td>\n",
              "      <td>0.018511</td>\n",
              "      <td>0.127907</td>\n",
              "      <td>0.340141</td>\n",
              "      <td>0.000000</td>\n",
              "      <td>0.494331</td>\n",
              "      <td>0.641863</td>\n",
              "      <td>0.0</td>\n",
              "      <td>0.133333</td>\n",
              "      <td>0.472692</td>\n",
              "      <td>0.472765</td>\n",
              "    </tr>\n",
              "  </tbody>\n",
              "</table>\n",
              "</div>"
            ],
            "text/plain": [
              "   Temperature  ...  average_units_consumed_daily_perAC\n",
              "0     0.797101  ...                            0.694387\n",
              "1     0.521739  ...                            0.585447\n",
              "2     0.376812  ...                            0.498960\n",
              "3     0.550725  ...                            0.547193\n",
              "4     0.666667  ...                            0.472765\n",
              "\n",
              "[5 rows x 12 columns]"
            ]
          },
          "metadata": {},
          "execution_count": 902
        }
      ]
    },
    {
      "cell_type": "code",
      "metadata": {
        "colab": {
          "base_uri": "https://localhost:8080/",
          "height": 455
        },
        "id": "92lG7ljBPeqL",
        "outputId": "b66ad70b-29f2-42bd-dc4f-2066f7050ae7"
      },
      "source": [
        "# Check correlation between features\n",
        "transformed_df.corr()"
      ],
      "execution_count": 903,
      "outputs": [
        {
          "output_type": "execute_result",
          "data": {
            "text/html": [
              "<div>\n",
              "<style scoped>\n",
              "    .dataframe tbody tr th:only-of-type {\n",
              "        vertical-align: middle;\n",
              "    }\n",
              "\n",
              "    .dataframe tbody tr th {\n",
              "        vertical-align: top;\n",
              "    }\n",
              "\n",
              "    .dataframe thead th {\n",
              "        text-align: right;\n",
              "    }\n",
              "</style>\n",
              "<table border=\"1\" class=\"dataframe\">\n",
              "  <thead>\n",
              "    <tr style=\"text-align: right;\">\n",
              "      <th></th>\n",
              "      <th>Temperature</th>\n",
              "      <th>Heat Index</th>\n",
              "      <th>Precipitation</th>\n",
              "      <th>Wind Speed</th>\n",
              "      <th>Wind Direction</th>\n",
              "      <th>Visibility</th>\n",
              "      <th>Cloud Cover</th>\n",
              "      <th>Relative Humidity</th>\n",
              "      <th>month</th>\n",
              "      <th>day</th>\n",
              "      <th>total_units_consumed_daily</th>\n",
              "      <th>average_units_consumed_daily_perAC</th>\n",
              "    </tr>\n",
              "  </thead>\n",
              "  <tbody>\n",
              "    <tr>\n",
              "      <th>Temperature</th>\n",
              "      <td>1.000000</td>\n",
              "      <td>0.824957</td>\n",
              "      <td>-0.237632</td>\n",
              "      <td>-0.332215</td>\n",
              "      <td>0.169047</td>\n",
              "      <td>-0.034681</td>\n",
              "      <td>-0.500025</td>\n",
              "      <td>-0.700374</td>\n",
              "      <td>-0.115182</td>\n",
              "      <td>-0.321022</td>\n",
              "      <td>0.562833</td>\n",
              "      <td>0.562799</td>\n",
              "    </tr>\n",
              "    <tr>\n",
              "      <th>Heat Index</th>\n",
              "      <td>0.824957</td>\n",
              "      <td>1.000000</td>\n",
              "      <td>0.027802</td>\n",
              "      <td>-0.368655</td>\n",
              "      <td>0.182516</td>\n",
              "      <td>-0.278896</td>\n",
              "      <td>-0.203535</td>\n",
              "      <td>-0.287705</td>\n",
              "      <td>-0.356054</td>\n",
              "      <td>-0.469496</td>\n",
              "      <td>0.355569</td>\n",
              "      <td>0.355527</td>\n",
              "    </tr>\n",
              "    <tr>\n",
              "      <th>Precipitation</th>\n",
              "      <td>-0.237632</td>\n",
              "      <td>0.027802</td>\n",
              "      <td>1.000000</td>\n",
              "      <td>0.065358</td>\n",
              "      <td>0.020251</td>\n",
              "      <td>-0.362995</td>\n",
              "      <td>0.420791</td>\n",
              "      <td>0.518125</td>\n",
              "      <td>-0.107191</td>\n",
              "      <td>-0.208397</td>\n",
              "      <td>-0.159345</td>\n",
              "      <td>-0.159390</td>\n",
              "    </tr>\n",
              "    <tr>\n",
              "      <th>Wind Speed</th>\n",
              "      <td>-0.332215</td>\n",
              "      <td>-0.368655</td>\n",
              "      <td>0.065358</td>\n",
              "      <td>1.000000</td>\n",
              "      <td>-0.075033</td>\n",
              "      <td>0.276750</td>\n",
              "      <td>0.265186</td>\n",
              "      <td>0.308691</td>\n",
              "      <td>-0.116715</td>\n",
              "      <td>-0.048754</td>\n",
              "      <td>-0.197776</td>\n",
              "      <td>-0.197814</td>\n",
              "    </tr>\n",
              "    <tr>\n",
              "      <th>Wind Direction</th>\n",
              "      <td>0.169047</td>\n",
              "      <td>0.182516</td>\n",
              "      <td>0.020251</td>\n",
              "      <td>-0.075033</td>\n",
              "      <td>1.000000</td>\n",
              "      <td>-0.142680</td>\n",
              "      <td>-0.158390</td>\n",
              "      <td>-0.048382</td>\n",
              "      <td>-0.249583</td>\n",
              "      <td>0.044254</td>\n",
              "      <td>0.004991</td>\n",
              "      <td>0.005012</td>\n",
              "    </tr>\n",
              "    <tr>\n",
              "      <th>Visibility</th>\n",
              "      <td>-0.034681</td>\n",
              "      <td>-0.278896</td>\n",
              "      <td>-0.362995</td>\n",
              "      <td>0.276750</td>\n",
              "      <td>-0.142680</td>\n",
              "      <td>1.000000</td>\n",
              "      <td>-0.324525</td>\n",
              "      <td>-0.420437</td>\n",
              "      <td>0.206422</td>\n",
              "      <td>0.397753</td>\n",
              "      <td>0.063706</td>\n",
              "      <td>0.063749</td>\n",
              "    </tr>\n",
              "    <tr>\n",
              "      <th>Cloud Cover</th>\n",
              "      <td>-0.500025</td>\n",
              "      <td>-0.203535</td>\n",
              "      <td>0.420791</td>\n",
              "      <td>0.265186</td>\n",
              "      <td>-0.158390</td>\n",
              "      <td>-0.324525</td>\n",
              "      <td>1.000000</td>\n",
              "      <td>0.780065</td>\n",
              "      <td>-0.240639</td>\n",
              "      <td>-0.226423</td>\n",
              "      <td>-0.556965</td>\n",
              "      <td>-0.557033</td>\n",
              "    </tr>\n",
              "    <tr>\n",
              "      <th>Relative Humidity</th>\n",
              "      <td>-0.700374</td>\n",
              "      <td>-0.287705</td>\n",
              "      <td>0.518125</td>\n",
              "      <td>0.308691</td>\n",
              "      <td>-0.048382</td>\n",
              "      <td>-0.420437</td>\n",
              "      <td>0.780065</td>\n",
              "      <td>1.000000</td>\n",
              "      <td>-0.318492</td>\n",
              "      <td>-0.158509</td>\n",
              "      <td>-0.554649</td>\n",
              "      <td>-0.554677</td>\n",
              "    </tr>\n",
              "    <tr>\n",
              "      <th>month</th>\n",
              "      <td>-0.115182</td>\n",
              "      <td>-0.356054</td>\n",
              "      <td>-0.107191</td>\n",
              "      <td>-0.116715</td>\n",
              "      <td>-0.249583</td>\n",
              "      <td>0.206422</td>\n",
              "      <td>-0.240639</td>\n",
              "      <td>-0.318492</td>\n",
              "      <td>1.000000</td>\n",
              "      <td>-0.028383</td>\n",
              "      <td>-0.001249</td>\n",
              "      <td>-0.001178</td>\n",
              "    </tr>\n",
              "    <tr>\n",
              "      <th>day</th>\n",
              "      <td>-0.321022</td>\n",
              "      <td>-0.469496</td>\n",
              "      <td>-0.208397</td>\n",
              "      <td>-0.048754</td>\n",
              "      <td>0.044254</td>\n",
              "      <td>0.397753</td>\n",
              "      <td>-0.226423</td>\n",
              "      <td>-0.158509</td>\n",
              "      <td>-0.028383</td>\n",
              "      <td>1.000000</td>\n",
              "      <td>-0.029375</td>\n",
              "      <td>-0.029337</td>\n",
              "    </tr>\n",
              "    <tr>\n",
              "      <th>total_units_consumed_daily</th>\n",
              "      <td>0.562833</td>\n",
              "      <td>0.355569</td>\n",
              "      <td>-0.159345</td>\n",
              "      <td>-0.197776</td>\n",
              "      <td>0.004991</td>\n",
              "      <td>0.063706</td>\n",
              "      <td>-0.556965</td>\n",
              "      <td>-0.554649</td>\n",
              "      <td>-0.001249</td>\n",
              "      <td>-0.029375</td>\n",
              "      <td>1.000000</td>\n",
              "      <td>1.000000</td>\n",
              "    </tr>\n",
              "    <tr>\n",
              "      <th>average_units_consumed_daily_perAC</th>\n",
              "      <td>0.562799</td>\n",
              "      <td>0.355527</td>\n",
              "      <td>-0.159390</td>\n",
              "      <td>-0.197814</td>\n",
              "      <td>0.005012</td>\n",
              "      <td>0.063749</td>\n",
              "      <td>-0.557033</td>\n",
              "      <td>-0.554677</td>\n",
              "      <td>-0.001178</td>\n",
              "      <td>-0.029337</td>\n",
              "      <td>1.000000</td>\n",
              "      <td>1.000000</td>\n",
              "    </tr>\n",
              "  </tbody>\n",
              "</table>\n",
              "</div>"
            ],
            "text/plain": [
              "                                    Temperature  ...  average_units_consumed_daily_perAC\n",
              "Temperature                            1.000000  ...                            0.562799\n",
              "Heat Index                             0.824957  ...                            0.355527\n",
              "Precipitation                         -0.237632  ...                           -0.159390\n",
              "Wind Speed                            -0.332215  ...                           -0.197814\n",
              "Wind Direction                         0.169047  ...                            0.005012\n",
              "Visibility                            -0.034681  ...                            0.063749\n",
              "Cloud Cover                           -0.500025  ...                           -0.557033\n",
              "Relative Humidity                     -0.700374  ...                           -0.554677\n",
              "month                                 -0.115182  ...                           -0.001178\n",
              "day                                   -0.321022  ...                           -0.029337\n",
              "total_units_consumed_daily             0.562833  ...                            1.000000\n",
              "average_units_consumed_daily_perAC     0.562799  ...                            1.000000\n",
              "\n",
              "[12 rows x 12 columns]"
            ]
          },
          "metadata": {},
          "execution_count": 903
        }
      ]
    },
    {
      "cell_type": "markdown",
      "metadata": {
        "id": "B_-pW58VReie"
      },
      "source": [
        "###Clearly there is are a number of correlated features in the dataset. We will have to choose only uncorrelated features for the ML modeling to avoid multicollinearity"
      ]
    },
    {
      "cell_type": "code",
      "metadata": {
        "id": "WQ8ffjaEQEb0"
      },
      "source": [
        "features = ['Temperature','Precipitation','Wind Speed','Wind Direction','Visibility','Cloud Cover','Relative Humidity','total_units_consumed_daily']"
      ],
      "execution_count": 904,
      "outputs": []
    },
    {
      "cell_type": "code",
      "metadata": {
        "colab": {
          "base_uri": "https://localhost:8080/",
          "height": 295
        },
        "id": "HAzVmbeRSmIG",
        "outputId": "bcbd6008-d08e-42ac-de5f-a59b0f21161a"
      },
      "source": [
        "# Check correlation again\n",
        "transformed_df[features].corr()"
      ],
      "execution_count": 905,
      "outputs": [
        {
          "output_type": "execute_result",
          "data": {
            "text/html": [
              "<div>\n",
              "<style scoped>\n",
              "    .dataframe tbody tr th:only-of-type {\n",
              "        vertical-align: middle;\n",
              "    }\n",
              "\n",
              "    .dataframe tbody tr th {\n",
              "        vertical-align: top;\n",
              "    }\n",
              "\n",
              "    .dataframe thead th {\n",
              "        text-align: right;\n",
              "    }\n",
              "</style>\n",
              "<table border=\"1\" class=\"dataframe\">\n",
              "  <thead>\n",
              "    <tr style=\"text-align: right;\">\n",
              "      <th></th>\n",
              "      <th>Temperature</th>\n",
              "      <th>Precipitation</th>\n",
              "      <th>Wind Speed</th>\n",
              "      <th>Wind Direction</th>\n",
              "      <th>Visibility</th>\n",
              "      <th>Cloud Cover</th>\n",
              "      <th>Relative Humidity</th>\n",
              "      <th>total_units_consumed_daily</th>\n",
              "    </tr>\n",
              "  </thead>\n",
              "  <tbody>\n",
              "    <tr>\n",
              "      <th>Temperature</th>\n",
              "      <td>1.000000</td>\n",
              "      <td>-0.237632</td>\n",
              "      <td>-0.332215</td>\n",
              "      <td>0.169047</td>\n",
              "      <td>-0.034681</td>\n",
              "      <td>-0.500025</td>\n",
              "      <td>-0.700374</td>\n",
              "      <td>0.562833</td>\n",
              "    </tr>\n",
              "    <tr>\n",
              "      <th>Precipitation</th>\n",
              "      <td>-0.237632</td>\n",
              "      <td>1.000000</td>\n",
              "      <td>0.065358</td>\n",
              "      <td>0.020251</td>\n",
              "      <td>-0.362995</td>\n",
              "      <td>0.420791</td>\n",
              "      <td>0.518125</td>\n",
              "      <td>-0.159345</td>\n",
              "    </tr>\n",
              "    <tr>\n",
              "      <th>Wind Speed</th>\n",
              "      <td>-0.332215</td>\n",
              "      <td>0.065358</td>\n",
              "      <td>1.000000</td>\n",
              "      <td>-0.075033</td>\n",
              "      <td>0.276750</td>\n",
              "      <td>0.265186</td>\n",
              "      <td>0.308691</td>\n",
              "      <td>-0.197776</td>\n",
              "    </tr>\n",
              "    <tr>\n",
              "      <th>Wind Direction</th>\n",
              "      <td>0.169047</td>\n",
              "      <td>0.020251</td>\n",
              "      <td>-0.075033</td>\n",
              "      <td>1.000000</td>\n",
              "      <td>-0.142680</td>\n",
              "      <td>-0.158390</td>\n",
              "      <td>-0.048382</td>\n",
              "      <td>0.004991</td>\n",
              "    </tr>\n",
              "    <tr>\n",
              "      <th>Visibility</th>\n",
              "      <td>-0.034681</td>\n",
              "      <td>-0.362995</td>\n",
              "      <td>0.276750</td>\n",
              "      <td>-0.142680</td>\n",
              "      <td>1.000000</td>\n",
              "      <td>-0.324525</td>\n",
              "      <td>-0.420437</td>\n",
              "      <td>0.063706</td>\n",
              "    </tr>\n",
              "    <tr>\n",
              "      <th>Cloud Cover</th>\n",
              "      <td>-0.500025</td>\n",
              "      <td>0.420791</td>\n",
              "      <td>0.265186</td>\n",
              "      <td>-0.158390</td>\n",
              "      <td>-0.324525</td>\n",
              "      <td>1.000000</td>\n",
              "      <td>0.780065</td>\n",
              "      <td>-0.556965</td>\n",
              "    </tr>\n",
              "    <tr>\n",
              "      <th>Relative Humidity</th>\n",
              "      <td>-0.700374</td>\n",
              "      <td>0.518125</td>\n",
              "      <td>0.308691</td>\n",
              "      <td>-0.048382</td>\n",
              "      <td>-0.420437</td>\n",
              "      <td>0.780065</td>\n",
              "      <td>1.000000</td>\n",
              "      <td>-0.554649</td>\n",
              "    </tr>\n",
              "    <tr>\n",
              "      <th>total_units_consumed_daily</th>\n",
              "      <td>0.562833</td>\n",
              "      <td>-0.159345</td>\n",
              "      <td>-0.197776</td>\n",
              "      <td>0.004991</td>\n",
              "      <td>0.063706</td>\n",
              "      <td>-0.556965</td>\n",
              "      <td>-0.554649</td>\n",
              "      <td>1.000000</td>\n",
              "    </tr>\n",
              "  </tbody>\n",
              "</table>\n",
              "</div>"
            ],
            "text/plain": [
              "                            Temperature  ...  total_units_consumed_daily\n",
              "Temperature                    1.000000  ...                    0.562833\n",
              "Precipitation                 -0.237632  ...                   -0.159345\n",
              "Wind Speed                    -0.332215  ...                   -0.197776\n",
              "Wind Direction                 0.169047  ...                    0.004991\n",
              "Visibility                    -0.034681  ...                    0.063706\n",
              "Cloud Cover                   -0.500025  ...                   -0.556965\n",
              "Relative Humidity             -0.700374  ...                   -0.554649\n",
              "total_units_consumed_daily     0.562833  ...                    1.000000\n",
              "\n",
              "[8 rows x 8 columns]"
            ]
          },
          "metadata": {},
          "execution_count": 905
        }
      ]
    },
    {
      "cell_type": "code",
      "metadata": {
        "id": "w5detF_zSqD7"
      },
      "source": [
        "# Choosing features based on low collinearity\n",
        "features = ['Temperature','Precipitation','total_units_consumed_daily']"
      ],
      "execution_count": 906,
      "outputs": []
    },
    {
      "cell_type": "code",
      "metadata": {
        "id": "Fp5jowsSTOvI"
      },
      "source": [
        "model_df = transformed_df[features]"
      ],
      "execution_count": 907,
      "outputs": []
    },
    {
      "cell_type": "code",
      "metadata": {
        "colab": {
          "base_uri": "https://localhost:8080/",
          "height": 203
        },
        "id": "VbovKsUvTS69",
        "outputId": "5bdace38-da97-4c4e-f696-05c9ce535b68"
      },
      "source": [
        "model_df.head()"
      ],
      "execution_count": 908,
      "outputs": [
        {
          "output_type": "execute_result",
          "data": {
            "text/html": [
              "<div>\n",
              "<style scoped>\n",
              "    .dataframe tbody tr th:only-of-type {\n",
              "        vertical-align: middle;\n",
              "    }\n",
              "\n",
              "    .dataframe tbody tr th {\n",
              "        vertical-align: top;\n",
              "    }\n",
              "\n",
              "    .dataframe thead th {\n",
              "        text-align: right;\n",
              "    }\n",
              "</style>\n",
              "<table border=\"1\" class=\"dataframe\">\n",
              "  <thead>\n",
              "    <tr style=\"text-align: right;\">\n",
              "      <th></th>\n",
              "      <th>Temperature</th>\n",
              "      <th>Precipitation</th>\n",
              "      <th>total_units_consumed_daily</th>\n",
              "    </tr>\n",
              "  </thead>\n",
              "  <tbody>\n",
              "    <tr>\n",
              "      <th>0</th>\n",
              "      <td>0.797101</td>\n",
              "      <td>0.004255</td>\n",
              "      <td>0.694562</td>\n",
              "    </tr>\n",
              "    <tr>\n",
              "      <th>1</th>\n",
              "      <td>0.521739</td>\n",
              "      <td>0.229787</td>\n",
              "      <td>0.585409</td>\n",
              "    </tr>\n",
              "    <tr>\n",
              "      <th>2</th>\n",
              "      <td>0.376812</td>\n",
              "      <td>0.285106</td>\n",
              "      <td>0.499069</td>\n",
              "    </tr>\n",
              "    <tr>\n",
              "      <th>3</th>\n",
              "      <td>0.550725</td>\n",
              "      <td>0.353404</td>\n",
              "      <td>0.547230</td>\n",
              "    </tr>\n",
              "    <tr>\n",
              "      <th>4</th>\n",
              "      <td>0.666667</td>\n",
              "      <td>0.018511</td>\n",
              "      <td>0.472692</td>\n",
              "    </tr>\n",
              "  </tbody>\n",
              "</table>\n",
              "</div>"
            ],
            "text/plain": [
              "   Temperature  Precipitation  total_units_consumed_daily\n",
              "0     0.797101       0.004255                    0.694562\n",
              "1     0.521739       0.229787                    0.585409\n",
              "2     0.376812       0.285106                    0.499069\n",
              "3     0.550725       0.353404                    0.547230\n",
              "4     0.666667       0.018511                    0.472692"
            ]
          },
          "metadata": {},
          "execution_count": 908
        }
      ]
    },
    {
      "cell_type": "code",
      "metadata": {
        "colab": {
          "base_uri": "https://localhost:8080/",
          "height": 142
        },
        "id": "3xg192p8TVFB",
        "outputId": "45e7c834-db3b-42ca-aa5b-8764e0be8a97"
      },
      "source": [
        "model_df.corr()"
      ],
      "execution_count": 909,
      "outputs": [
        {
          "output_type": "execute_result",
          "data": {
            "text/html": [
              "<div>\n",
              "<style scoped>\n",
              "    .dataframe tbody tr th:only-of-type {\n",
              "        vertical-align: middle;\n",
              "    }\n",
              "\n",
              "    .dataframe tbody tr th {\n",
              "        vertical-align: top;\n",
              "    }\n",
              "\n",
              "    .dataframe thead th {\n",
              "        text-align: right;\n",
              "    }\n",
              "</style>\n",
              "<table border=\"1\" class=\"dataframe\">\n",
              "  <thead>\n",
              "    <tr style=\"text-align: right;\">\n",
              "      <th></th>\n",
              "      <th>Temperature</th>\n",
              "      <th>Precipitation</th>\n",
              "      <th>total_units_consumed_daily</th>\n",
              "    </tr>\n",
              "  </thead>\n",
              "  <tbody>\n",
              "    <tr>\n",
              "      <th>Temperature</th>\n",
              "      <td>1.000000</td>\n",
              "      <td>-0.237632</td>\n",
              "      <td>0.562833</td>\n",
              "    </tr>\n",
              "    <tr>\n",
              "      <th>Precipitation</th>\n",
              "      <td>-0.237632</td>\n",
              "      <td>1.000000</td>\n",
              "      <td>-0.159345</td>\n",
              "    </tr>\n",
              "    <tr>\n",
              "      <th>total_units_consumed_daily</th>\n",
              "      <td>0.562833</td>\n",
              "      <td>-0.159345</td>\n",
              "      <td>1.000000</td>\n",
              "    </tr>\n",
              "  </tbody>\n",
              "</table>\n",
              "</div>"
            ],
            "text/plain": [
              "                            Temperature  ...  total_units_consumed_daily\n",
              "Temperature                    1.000000  ...                    0.562833\n",
              "Precipitation                 -0.237632  ...                   -0.159345\n",
              "total_units_consumed_daily     0.562833  ...                    1.000000\n",
              "\n",
              "[3 rows x 3 columns]"
            ]
          },
          "metadata": {},
          "execution_count": 909
        }
      ]
    },
    {
      "cell_type": "code",
      "metadata": {
        "id": "dW-t0RXBUukf"
      },
      "source": [
        "# Create independent and dependent varriables\n",
        "\n",
        "X = model_df[['Temperature','Precipitation']]\n",
        "y = model_df['total_units_consumed_daily']"
      ],
      "execution_count": 910,
      "outputs": []
    },
    {
      "cell_type": "code",
      "metadata": {
        "id": "h42eJS2aVoRS"
      },
      "source": [
        "# Import ML libraries\n",
        "from sklearn.model_selection import KFold\n",
        "from sklearn.model_selection import cross_val_score\n",
        "from sklearn.linear_model import LinearRegression\n",
        "from sklearn.model_selection import train_test_split\n",
        "from sklearn.metrics import mean_squared_error"
      ],
      "execution_count": 911,
      "outputs": []
    },
    {
      "cell_type": "code",
      "metadata": {
        "id": "XYrIlOwqZDAf"
      },
      "source": [
        "# Splitting the dataset into the Training set and Test set\n",
        "X_train, X_test, y_train, y_test = train_test_split(X, y, test_size = 0.2, random_state = 2)"
      ],
      "execution_count": 912,
      "outputs": []
    },
    {
      "cell_type": "code",
      "metadata": {
        "colab": {
          "base_uri": "https://localhost:8080/"
        },
        "id": "wl9C8S81ZWGv",
        "outputId": "44248724-b804-4961-d672-9b7744e214d6"
      },
      "source": [
        "# Instantiate the Linear Regressor\n",
        "regressor = LinearRegression()\n",
        "regressor.fit(X_train,y_train)"
      ],
      "execution_count": 913,
      "outputs": [
        {
          "output_type": "execute_result",
          "data": {
            "text/plain": [
              "LinearRegression(copy_X=True, fit_intercept=True, n_jobs=None, normalize=False)"
            ]
          },
          "metadata": {},
          "execution_count": 913
        }
      ]
    },
    {
      "cell_type": "code",
      "metadata": {
        "id": "FR8da5GvZWEO"
      },
      "source": [
        "# Make Predictions on training data\n",
        "y_train_preds = regressor.predict(X_train)"
      ],
      "execution_count": 916,
      "outputs": []
    },
    {
      "cell_type": "code",
      "metadata": {
        "id": "gTQGgEmvZVwy"
      },
      "source": [
        "# Predicting the Test set results\n",
        "y_test_preds = regressor.predict(X_test)"
      ],
      "execution_count": 917,
      "outputs": []
    },
    {
      "cell_type": "code",
      "metadata": {
        "colab": {
          "base_uri": "https://localhost:8080/"
        },
        "id": "WW9Leo4abMkl",
        "outputId": "3bbedb63-988f-4f02-ffda-bacffc746e8f"
      },
      "source": [
        "# Mean squared error on test data\n",
        "mean_squared_error(y_test, y_test_preds)"
      ],
      "execution_count": 918,
      "outputs": [
        {
          "output_type": "execute_result",
          "data": {
            "text/plain": [
              "0.040998424324485014"
            ]
          },
          "metadata": {},
          "execution_count": 918
        }
      ]
    },
    {
      "cell_type": "code",
      "metadata": {
        "colab": {
          "base_uri": "https://localhost:8080/"
        },
        "id": "dX09znUfbehd",
        "outputId": "3bd626af-1309-42e7-d6da-6b3aa80306e4"
      },
      "source": [
        "# Coeffecients of regression for the two features chosen for the prediction\n",
        "regressor.coef_"
      ],
      "execution_count": 922,
      "outputs": [
        {
          "output_type": "execute_result",
          "data": {
            "text/plain": [
              "array([ 0.48349701, -0.04368732])"
            ]
          },
          "metadata": {},
          "execution_count": 922
        }
      ]
    },
    {
      "cell_type": "code",
      "metadata": {
        "id": "j1cbIXcjd82S"
      },
      "source": [
        ""
      ],
      "execution_count": null,
      "outputs": []
    }
  ]
}